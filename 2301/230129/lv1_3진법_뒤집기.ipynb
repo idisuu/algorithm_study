{
 "cells": [
  {
   "cell_type": "code",
   "execution_count": null,
   "metadata": {},
   "outputs": [],
   "source": [
    "def count_length(num):\n",
    "    length = 1\n",
    "    while True:\n",
    "        if not num >= 3 ** length:\n",
    "            return length\n",
    "        length += 1\n",
    "\n",
    "def solution(num):\n",
    "    length = count_length(num)\n",
    "    ternary_value = ''\n",
    "    for i in range(length):\n",
    "        value = 3 ** (length - i - 1)\n",
    "        if num >= value * 2:\n",
    "            ternary_value += '2'\n",
    "            num -= value * 2\n",
    "        elif num >= value ** 1:\n",
    "            ternary_value += '1'\n",
    "            num -= value\n",
    "        else:\n",
    "            ternary_value += '0'\n",
    "\n",
    "    reverse_ternary_value = ternary_value[::-1]\n",
    "    answer = 0\n",
    "    for i, v in zip(range(length), reverse_ternary_value):\n",
    "        answer += 3 ** (length - i - 1) * int(v)\n",
    "\n",
    "    return answer"
   ]
  }
 ],
 "metadata": {
  "kernelspec": {
   "display_name": "Python 3",
   "language": "python",
   "name": "python3"
  },
  "language_info": {
   "codemirror_mode": {
    "name": "ipython",
    "version": 3
   },
   "file_extension": ".py",
   "mimetype": "text/x-python",
   "name": "python",
   "nbconvert_exporter": "python",
   "pygments_lexer": "ipython3",
   "version": "3.8.5"
  }
 },
 "nbformat": 4,
 "nbformat_minor": 4
}
