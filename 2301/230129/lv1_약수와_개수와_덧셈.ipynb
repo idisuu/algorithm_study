{
 "cells": [
  {
   "cell_type": "code",
   "execution_count": null,
   "metadata": {},
   "outputs": [],
   "source": [
    "def factor_discriminator(num):\n",
    "    total = 0\n",
    "    for i in range(1, num+1):\n",
    "        if not num % i:\n",
    "            total += 1\n",
    "    if not total % 2:\n",
    "        return True\n",
    "    return False\n",
    "\n",
    "def solution(left, right):\n",
    "    total = 0\n",
    "    for num in range(left, right+1):\n",
    "        if factor_discriminator(num):\n",
    "            total += num\n",
    "        else:\n",
    "            total -= num\n",
    "    return total"
   ]
  }
 ],
 "metadata": {
  "kernelspec": {
   "display_name": "Python 3",
   "language": "python",
   "name": "python3"
  },
  "language_info": {
   "codemirror_mode": {
    "name": "ipython",
    "version": 3
   },
   "file_extension": ".py",
   "mimetype": "text/x-python",
   "name": "python",
   "nbconvert_exporter": "python",
   "pygments_lexer": "ipython3",
   "version": "3.8.5"
  }
 },
 "nbformat": 4,
 "nbformat_minor": 4
}
