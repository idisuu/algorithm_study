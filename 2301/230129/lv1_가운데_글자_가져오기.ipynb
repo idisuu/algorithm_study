{
 "cells": [
  {
   "cell_type": "code",
   "execution_count": null,
   "metadata": {},
   "outputs": [],
   "source": [
    "import math\n",
    "\n",
    "def solution(s):\n",
    "    # 홀수\n",
    "    if len(s) % 2:\n",
    "        middle_index = math.ceil(len(s) / 2) - 1\n",
    "        return s[middle_index]\n",
    "    # 짝수\n",
    "    else:\n",
    "        middle_index = int(len(s) / 2) - 1\n",
    "        return s[middle_index : middle_index+2]"
   ]
  }
 ],
 "metadata": {
  "kernelspec": {
   "display_name": "Python 3",
   "language": "python",
   "name": "python3"
  },
  "language_info": {
   "codemirror_mode": {
    "name": "ipython",
    "version": 3
   },
   "file_extension": ".py",
   "mimetype": "text/x-python",
   "name": "python",
   "nbconvert_exporter": "python",
   "pygments_lexer": "ipython3",
   "version": "3.8.5"
  }
 },
 "nbformat": 4,
 "nbformat_minor": 4
}
