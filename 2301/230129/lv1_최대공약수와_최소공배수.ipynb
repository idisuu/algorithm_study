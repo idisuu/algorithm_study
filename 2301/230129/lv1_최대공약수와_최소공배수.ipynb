{
 "cells": [
  {
   "cell_type": "code",
   "execution_count": null,
   "metadata": {},
   "outputs": [],
   "source": [
    "from collections import Counter\n",
    "\n",
    "def decompose(num):\n",
    "    divider = 1\n",
    "    lst = []    \n",
    "    while not num == 1:\n",
    "        if divider == 1:\n",
    "            lst.append(divider)\n",
    "            divider += 1\n",
    "            continue\n",
    "\n",
    "        if not num % divider:\n",
    "            lst.append(divider)        \n",
    "            num = num / divider\n",
    "        else:\n",
    "            divider += 1  \n",
    "    return lst\n",
    "\n",
    "\n",
    "def solution(n, m):\n",
    "    n_decompose = decompose(n)\n",
    "    m_decompose =  decompose(m)\n",
    "    \n",
    "    n_decompose_counter = Counter(n_decompose)\n",
    "    m_decompose_counter = Counter(m_decompose)\n",
    "    \n",
    "    gcd = 1\n",
    "    common_factor_list = [factor for factor in n_decompose_counter.keys() if factor in m_decompose_counter.keys()]\n",
    "    for num in common_factor_list:\n",
    "        gcd *= num ** min(n_decompose_counter[num], m_decompose_counter[num])\n",
    "    \n",
    "    lcm = 1\n",
    "    all_factor_list = list(set(list(n_decompose_counter.keys()) + list(m_decompose_counter.keys())))\n",
    "    for factor in all_factor_list:\n",
    "        lcm *= factor ** max(n_decompose_counter.get(factor, 0), m_decompose_counter.get(factor, 0))\n",
    "    \n",
    "    return [gcd, lcm]"
   ]
  }
 ],
 "metadata": {
  "kernelspec": {
   "display_name": "Python 3",
   "language": "python",
   "name": "python3"
  },
  "language_info": {
   "codemirror_mode": {
    "name": "ipython",
    "version": 3
   },
   "file_extension": ".py",
   "mimetype": "text/x-python",
   "name": "python",
   "nbconvert_exporter": "python",
   "pygments_lexer": "ipython3",
   "version": "3.8.5"
  }
 },
 "nbformat": 4,
 "nbformat_minor": 4
}
