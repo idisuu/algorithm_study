{
 "cells": [
  {
   "cell_type": "code",
   "execution_count": null,
   "metadata": {},
   "outputs": [],
   "source": [
    "import math\n",
    "\n",
    "def solution(n):\n",
    "    half =  math.ceil(n/2)\n",
    "    total_num_list = set()\n",
    "    for i in range(half):\n",
    "        num = i + 1\n",
    "        left = n % num\n",
    "        if not left:\n",
    "            print(num, n / num)\n",
    "            total_num_list.add(num)\n",
    "            total_num_list.add(n/num)\n",
    "\n",
    "    total = 0\n",
    "    for num in list(total_num_list):\n",
    "        total += num\n",
    "    \n",
    "    return total"
   ]
  }
 ],
 "metadata": {
  "kernelspec": {
   "display_name": "Python 3",
   "language": "python",
   "name": "python3"
  },
  "language_info": {
   "codemirror_mode": {
    "name": "ipython",
    "version": 3
   },
   "file_extension": ".py",
   "mimetype": "text/x-python",
   "name": "python",
   "nbconvert_exporter": "python",
   "pygments_lexer": "ipython3",
   "version": "3.8.5"
  }
 },
 "nbformat": 4,
 "nbformat_minor": 4
}
