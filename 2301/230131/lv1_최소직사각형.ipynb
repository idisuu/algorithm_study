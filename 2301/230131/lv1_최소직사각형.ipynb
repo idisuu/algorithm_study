{
 "cells": [
  {
   "cell_type": "code",
   "execution_count": null,
   "metadata": {},
   "outputs": [],
   "source": [
    "def solution(size):\n",
    "    sorted_size = sorted(size, key=lambda x: x[0])\n",
    "    max_width = 0\n",
    "    max_height = 0\n",
    "    for width, height in sorted_size:\n",
    "        if (width <= max_width) and (height <= max_height):\n",
    "            continue        \n",
    "        elif (width >= max_width) and (height >= max_height):\n",
    "            max_width = width\n",
    "            max_height = height\n",
    "            continue        \n",
    "        swaped =  max(max_width, height) * max(max_height, width)\n",
    "        not_swaped = max(max_width, width) * max(max_height, height)    \n",
    "        if swaped <= not_swaped:\n",
    "            max_width = max(max_width, height)\n",
    "            max_height = max(max_height, width)\n",
    "        else:\n",
    "            max_width = max(max_width, width)\n",
    "            max_height = max(max_height, height)\n",
    "    return max_height * max_width"
   ]
  }
 ],
 "metadata": {
  "kernelspec": {
   "display_name": "Python 3",
   "language": "python",
   "name": "python3"
  },
  "language_info": {
   "codemirror_mode": {
    "name": "ipython",
    "version": 3
   },
   "file_extension": ".py",
   "mimetype": "text/x-python",
   "name": "python",
   "nbconvert_exporter": "python",
   "pygments_lexer": "ipython3",
   "version": "3.8.5"
  }
 },
 "nbformat": 4,
 "nbformat_minor": 4
}
