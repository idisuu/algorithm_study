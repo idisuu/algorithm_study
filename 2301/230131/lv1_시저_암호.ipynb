{
 "cells": [
  {
   "cell_type": "code",
   "execution_count": null,
   "metadata": {},
   "outputs": [],
   "source": [
    "lower_chr_to_num_dict = {chr(i):i for i in range(97, 97+26)}\n",
    "upper_chr_to_num_dict = {chr(i):i for i in range(65, 65+26)}\n",
    "\n",
    "ch_num_list = list(lower_chr_to_num_dict.items()) + list(upper_chr_to_num_dict.items())\n",
    "num_to_ch_dict = {num:ch for ch, num in ch_num_list}\n",
    "\n",
    "def solution(s, n):\n",
    "    answer = ''\n",
    "    for ch in s:\n",
    "        if ch == ' ':\n",
    "            answer += ch\n",
    "            continue\n",
    "        number = ord(ch)\n",
    "\n",
    "        new_number = number + n\n",
    "        if number >= 97:        \n",
    "            new_number = new_number if new_number < 123 else new_number - 26\n",
    "        else:\n",
    "            new_number = new_number if new_number < 91 else new_number - 26\n",
    "        answer += num_to_ch_dict[new_number]\n",
    "    return answer"
   ]
  }
 ],
 "metadata": {
  "kernelspec": {
   "display_name": "Python 3",
   "language": "python",
   "name": "python3"
  },
  "language_info": {
   "codemirror_mode": {
    "name": "ipython",
    "version": 3
   },
   "file_extension": ".py",
   "mimetype": "text/x-python",
   "name": "python",
   "nbconvert_exporter": "python",
   "pygments_lexer": "ipython3",
   "version": "3.8.5"
  }
 },
 "nbformat": 4,
 "nbformat_minor": 4
}
