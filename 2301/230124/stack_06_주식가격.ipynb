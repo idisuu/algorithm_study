{
 "cells": [
  {
   "cell_type": "code",
   "execution_count": null,
   "metadata": {},
   "outputs": [],
   "source": [
    "from collections import deque\n",
    "\n",
    "def solution(prices):\n",
    "    q = deque([])\n",
    "    answer = [0 for _ in range(len(prices))]\n",
    "    for cur_idx, cur_price in enumerate(prices):\n",
    "        q.append([cur_idx, cur_price, -1])\n",
    "        iter_num = len(q)\n",
    "        for _ in range(iter_num):\n",
    "            idx, price, time = q.popleft()\n",
    "            if cur_price < price:\n",
    "                answer[idx] = time + 1\n",
    "            else:\n",
    "                q.append([idx, price, time+1])\n",
    "\n",
    "    while q:\n",
    "        idx, _, time = q.popleft()\n",
    "        answer[idx]  = time   \n",
    "    return answer"
   ]
  },
  {
   "cell_type": "code",
   "execution_count": null,
   "metadata": {},
   "outputs": [],
   "source": []
  }
 ],
 "metadata": {
  "kernelspec": {
   "display_name": "Python 3",
   "language": "python",
   "name": "python3"
  },
  "language_info": {
   "codemirror_mode": {
    "name": "ipython",
    "version": 3
   },
   "file_extension": ".py",
   "mimetype": "text/x-python",
   "name": "python",
   "nbconvert_exporter": "python",
   "pygments_lexer": "ipython3",
   "version": "3.8.5"
  }
 },
 "nbformat": 4,
 "nbformat_minor": 4
}
