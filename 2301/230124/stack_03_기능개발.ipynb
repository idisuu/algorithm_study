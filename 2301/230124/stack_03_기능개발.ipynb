{
 "cells": [
  {
   "cell_type": "code",
   "execution_count": null,
   "metadata": {},
   "outputs": [],
   "source": [
    "import sys\n",
    "import math\n",
    "from collections import deque\n",
    "\n",
    "def solution(progresses, speeds):\n",
    "    left_days = []\n",
    "    for progress, speed in zip(progresses, speeds):\n",
    "        left_amount = 100 - progress    \n",
    "        left_days.append(math.ceil(left_amount/speed))\n",
    "    q = deque(left_days)\n",
    "    max_value = q[0] \n",
    "    cnt = 0\n",
    "    answer = []\n",
    "    for _ in range(len(q)):\n",
    "        temp = q.popleft()\n",
    "        if temp > max_value:        \n",
    "            answer.append(cnt)\n",
    "            max_value = temp\n",
    "            cnt = 0\n",
    "        cnt += 1\n",
    "    answer.append(cnt)\n",
    "    return answer"
   ]
  },
  {
   "cell_type": "code",
   "execution_count": null,
   "metadata": {},
   "outputs": [],
   "source": []
  },
  {
   "cell_type": "code",
   "execution_count": null,
   "metadata": {},
   "outputs": [],
   "source": []
  }
 ],
 "metadata": {
  "kernelspec": {
   "display_name": "Python 3",
   "language": "python",
   "name": "python3"
  },
  "language_info": {
   "codemirror_mode": {
    "name": "ipython",
    "version": 3
   },
   "file_extension": ".py",
   "mimetype": "text/x-python",
   "name": "python",
   "nbconvert_exporter": "python",
   "pygments_lexer": "ipython3",
   "version": "3.8.5"
  }
 },
 "nbformat": 4,
 "nbformat_minor": 4
}
