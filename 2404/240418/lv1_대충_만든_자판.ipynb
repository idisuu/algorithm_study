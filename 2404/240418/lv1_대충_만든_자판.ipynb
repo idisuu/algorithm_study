{
 "cells": [
  {
   "cell_type": "code",
   "execution_count": null,
   "id": "137f9694",
   "metadata": {},
   "outputs": [],
   "source": [
    "def solution(keymap, targets):\n",
    "    key_num_dict = {}\n",
    "    for km in keymap:\n",
    "        key_num_lst = [[key, num+1] for key, num in zip(km, range(len(km)))]\n",
    "        for key, num in key_num_lst:\n",
    "            if not key_num_dict.get(key):\n",
    "                key_num_dict[key] = num\n",
    "            else:\n",
    "                if num < key_num_dict[key]:\n",
    "                    key_num_dict[key] = num\n",
    "                    \n",
    "    results = []\n",
    "    for target in targets:\n",
    "        result = 0\n",
    "        for ch in target:            \n",
    "            if key_num_dict.get(ch):\n",
    "                result += key_num_dict[ch]\n",
    "            else:\n",
    "                result = -1\n",
    "                break\n",
    "        results.append(result)\n",
    "            \n",
    "    return results"
   ]
  }
 ],
 "metadata": {
  "kernelspec": {
   "display_name": "Python 3 (ipykernel)",
   "language": "python",
   "name": "python3"
  },
  "language_info": {
   "codemirror_mode": {
    "name": "ipython",
    "version": 3
   },
   "file_extension": ".py",
   "mimetype": "text/x-python",
   "name": "python",
   "nbconvert_exporter": "python",
   "pygments_lexer": "ipython3",
   "version": "3.10.9"
  }
 },
 "nbformat": 4,
 "nbformat_minor": 5
}
