{
 "cells": [
  {
   "cell_type": "code",
   "execution_count": null,
   "id": "a1ac99fd",
   "metadata": {},
   "outputs": [],
   "source": [
    "def solution(cards1, cards2, goal):\n",
    "    for g in goal:\n",
    "        if cards1 and cards1[0] == g:\n",
    "            cards1.pop(0)\n",
    "        elif cards2 and cards2[0] == g:\n",
    "            cards2.pop(0)\n",
    "        else:\n",
    "            return \"No\"\n",
    "    return \"Yes\""
   ]
  }
 ],
 "metadata": {
  "kernelspec": {
   "display_name": "Python 3 (ipykernel)",
   "language": "python",
   "name": "python3"
  },
  "language_info": {
   "codemirror_mode": {
    "name": "ipython",
    "version": 3
   },
   "file_extension": ".py",
   "mimetype": "text/x-python",
   "name": "python",
   "nbconvert_exporter": "python",
   "pygments_lexer": "ipython3",
   "version": "3.10.9"
  }
 },
 "nbformat": 4,
 "nbformat_minor": 5
}
