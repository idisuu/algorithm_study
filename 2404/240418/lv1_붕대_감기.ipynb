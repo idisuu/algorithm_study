{
 "cells": [
  {
   "cell_type": "code",
   "execution_count": null,
   "id": "948a0599",
   "metadata": {},
   "outputs": [],
   "source": [
    "def solution(bandage, health, attacks):\n",
    "    last_attack = attacks[-1][0]    \n",
    "    \n",
    "    cast_time = bandage[0]\n",
    "    heal_per_sec = bandage[1]\n",
    "    extra_heal = bandage[2]\n",
    "    \n",
    "    cur_health = health\n",
    "    cur_cast_time = 0\n",
    "    for sec in range(1, last_attack +1):\n",
    "        if sec == attacks[0][0]:\n",
    "            cur_health -= attacks[0][1]\n",
    "            cur_cast_time = 0\n",
    "            attacks.pop(0)        \n",
    "            if cur_health <= 0:\n",
    "                return -1\n",
    "            continue\n",
    "        cur_health = min(health, cur_health + heal_per_sec)\n",
    "        cur_cast_time += 1\n",
    "        if cur_cast_time == cast_time:\n",
    "            cur_health = min(health, cur_health+extra_heal)\n",
    "            cur_cast_time = 0\n",
    "        \n",
    "    return cur_health"
   ]
  }
 ],
 "metadata": {
  "kernelspec": {
   "display_name": "Python 3 (ipykernel)",
   "language": "python",
   "name": "python3"
  },
  "language_info": {
   "codemirror_mode": {
    "name": "ipython",
    "version": 3
   },
   "file_extension": ".py",
   "mimetype": "text/x-python",
   "name": "python",
   "nbconvert_exporter": "python",
   "pygments_lexer": "ipython3",
   "version": "3.10.9"
  }
 },
 "nbformat": 4,
 "nbformat_minor": 5
}
