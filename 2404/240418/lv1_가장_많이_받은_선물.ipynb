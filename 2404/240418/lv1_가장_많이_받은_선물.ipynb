{
 "cells": [
  {
   "cell_type": "code",
   "execution_count": null,
   "id": "76022b3e",
   "metadata": {},
   "outputs": [],
   "source": [
    "def solution(friends, gifts):\n",
    "    friend_dict = {friend: {friend: 0 for friend in friends} for friend in friends}\n",
    "    friend_score = {friend: 0 for friend in friends}\n",
    "    for gift in gifts:\n",
    "        give, given = gift.split()\n",
    "        friend_dict[give][given] += 1\n",
    "        friend_score[give] += 1\n",
    "        friend_score[given] -= 1\n",
    "    # print(friend_dict)\n",
    "    # print(friend_score)\n",
    "    max_score = 0\n",
    "    for i in friend_dict.items():\n",
    "        score = 0\n",
    "        give = i[0]\n",
    "        for given, num in i[1].items():\n",
    "            if give == given:\n",
    "                continue\n",
    "            if num > friend_dict[given][give]:\n",
    "                score += 1\n",
    "            if num == friend_dict[given][give]:\n",
    "                if friend_score[give] > friend_score[given]:\n",
    "                    score += 1\n",
    "        if score > max_score:\n",
    "            max_score = score\n",
    "    return max_score"
   ]
  }
 ],
 "metadata": {
  "kernelspec": {
   "display_name": "Python 3 (ipykernel)",
   "language": "python",
   "name": "python3"
  },
  "language_info": {
   "codemirror_mode": {
    "name": "ipython",
    "version": 3
   },
   "file_extension": ".py",
   "mimetype": "text/x-python",
   "name": "python",
   "nbconvert_exporter": "python",
   "pygments_lexer": "ipython3",
   "version": "3.10.9"
  }
 },
 "nbformat": 4,
 "nbformat_minor": 5
}
