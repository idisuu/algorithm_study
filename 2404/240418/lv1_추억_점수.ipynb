{
 "cells": [
  {
   "cell_type": "code",
   "execution_count": null,
   "id": "2d0dd26f",
   "metadata": {},
   "outputs": [],
   "source": [
    "def solution(name, yearning, photo):\n",
    "    name_score_dict = {n:y for n,y in zip(name, yearning)}\n",
    "    # print(name_score_dict)\n",
    "    score_list = []\n",
    "    for lst in photo:\n",
    "        score = 0\n",
    "        for name in lst:\n",
    "            score += name_score_dict.get(name, 0)\n",
    "        score_list.append(score)\n",
    "    return score_list"
   ]
  }
 ],
 "metadata": {
  "kernelspec": {
   "display_name": "Python 3 (ipykernel)",
   "language": "python",
   "name": "python3"
  },
  "language_info": {
   "codemirror_mode": {
    "name": "ipython",
    "version": 3
   },
   "file_extension": ".py",
   "mimetype": "text/x-python",
   "name": "python",
   "nbconvert_exporter": "python",
   "pygments_lexer": "ipython3",
   "version": "3.10.9"
  }
 },
 "nbformat": 4,
 "nbformat_minor": 5
}
