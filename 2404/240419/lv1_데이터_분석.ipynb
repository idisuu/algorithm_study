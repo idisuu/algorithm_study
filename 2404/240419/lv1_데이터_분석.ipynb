{
 "cells": [
  {
   "cell_type": "code",
   "execution_count": null,
   "id": "676eecba",
   "metadata": {},
   "outputs": [],
   "source": [
    "def solution(data, ext, val_ext, sort_by):\n",
    "    ext_dict = {\n",
    "        'code': 0,\n",
    "        'date': 1,\n",
    "        'maximum': 2,\n",
    "        'remain': 3\n",
    "    }\n",
    "    filtered_data = [d for d in data if d[ext_dict[ext]] < val_ext]\n",
    "    sorted_data = sorted(filtered_data, key=lambda x: x[ext_dict[sort_by]])\n",
    "    return sorted_data"
   ]
  }
 ],
 "metadata": {
  "kernelspec": {
   "display_name": "Python 3 (ipykernel)",
   "language": "python",
   "name": "python3"
  },
  "language_info": {
   "codemirror_mode": {
    "name": "ipython",
    "version": 3
   },
   "file_extension": ".py",
   "mimetype": "text/x-python",
   "name": "python",
   "nbconvert_exporter": "python",
   "pygments_lexer": "ipython3",
   "version": "3.10.9"
  }
 },
 "nbformat": 4,
 "nbformat_minor": 5
}
