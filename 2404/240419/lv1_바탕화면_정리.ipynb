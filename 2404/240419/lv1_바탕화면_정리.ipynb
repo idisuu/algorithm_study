{
 "cells": [
  {
   "cell_type": "code",
   "execution_count": null,
   "id": "1be6f147",
   "metadata": {},
   "outputs": [],
   "source": [
    "def solution(wallpaper):\n",
    "    xmin = 50\n",
    "    xmax = 0\n",
    "    ymin = 50\n",
    "    ymax = 0\n",
    "    for height, row in enumerate(wallpaper):\n",
    "        for width, ch in enumerate(row):\n",
    "            if ch == '#':               \n",
    "                xmin = min(xmin, width)\n",
    "                xmax = max(xmax, width+1)\n",
    "                ymin = min(ymin, height)\n",
    "                ymax = max(ymax, height+1)\n",
    "#                print(height, width, xmin, ymin, xmax, ymax)\n",
    "    return [ymin, xmin, ymax, xmax]"
   ]
  }
 ],
 "metadata": {
  "kernelspec": {
   "display_name": "Python 3 (ipykernel)",
   "language": "python",
   "name": "python3"
  },
  "language_info": {
   "codemirror_mode": {
    "name": "ipython",
    "version": 3
   },
   "file_extension": ".py",
   "mimetype": "text/x-python",
   "name": "python",
   "nbconvert_exporter": "python",
   "pygments_lexer": "ipython3",
   "version": "3.10.9"
  }
 },
 "nbformat": 4,
 "nbformat_minor": 5
}
