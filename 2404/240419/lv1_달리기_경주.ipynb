{
 "cells": [
  {
   "cell_type": "code",
   "execution_count": null,
   "id": "b609cc63",
   "metadata": {},
   "outputs": [],
   "source": [
    "def solution(players, callings):\n",
    "    player_num_dict = {player: i for player, i in zip(players, range(len(players)))}\n",
    "    num_player_dict = {i: player for player, i in zip(players, range(len(players)))}\n",
    "    for calling in callings:\n",
    "        back = calling\n",
    "        back_num = player_num_dict[calling]\n",
    "        \n",
    "        front_num = back_num - 1\n",
    "        front = num_player_dict[front_num]\n",
    "        \n",
    "        player_num_dict[back] -= 1\n",
    "        player_num_dict[front] += 1\n",
    "        \n",
    "        num_player_dict[front_num] = back\n",
    "        num_player_dict[back_num] = front\n",
    "    \n",
    "    out = [v for k, v in num_player_dict.items()]\n",
    "    return out"
   ]
  }
 ],
 "metadata": {
  "kernelspec": {
   "display_name": "Python 3 (ipykernel)",
   "language": "python",
   "name": "python3"
  },
  "language_info": {
   "codemirror_mode": {
    "name": "ipython",
    "version": 3
   },
   "file_extension": ".py",
   "mimetype": "text/x-python",
   "name": "python",
   "nbconvert_exporter": "python",
   "pygments_lexer": "ipython3",
   "version": "3.10.9"
  }
 },
 "nbformat": 4,
 "nbformat_minor": 5
}
