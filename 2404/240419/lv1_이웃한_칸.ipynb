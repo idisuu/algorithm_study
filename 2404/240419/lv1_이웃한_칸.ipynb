{
 "cells": [
  {
   "cell_type": "code",
   "execution_count": null,
   "id": "c18462b6",
   "metadata": {},
   "outputs": [],
   "source": [
    "def solution(board, h, w):\n",
    "    target_color = board[h][w]\n",
    "    \n",
    "    dh_list = [0, 1, -1, 0]\n",
    "    dw_list = [1, 0, 0, -1]\n",
    "    \n",
    "    cnt = 0\n",
    "    for dh, dw in zip(dh_list, dw_list):\n",
    "        target_height = h + dh\n",
    "        target_width = w + dw\n",
    "        if (target_height) < 0 or (target_width < 0) or (len(board)-1 < target_height) or (len(board)-1 < target_width):\n",
    "            continue\n",
    "        if board[target_height][target_width] == target_color:\n",
    "            cnt += 1\n",
    "    return cnt"
   ]
  }
 ],
 "metadata": {
  "kernelspec": {
   "display_name": "Python 3 (ipykernel)",
   "language": "python",
   "name": "python3"
  },
  "language_info": {
   "codemirror_mode": {
    "name": "ipython",
    "version": 3
   },
   "file_extension": ".py",
   "mimetype": "text/x-python",
   "name": "python",
   "nbconvert_exporter": "python",
   "pygments_lexer": "ipython3",
   "version": "3.10.9"
  }
 },
 "nbformat": 4,
 "nbformat_minor": 5
}
