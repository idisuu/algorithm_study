{
 "cells": [
  {
   "cell_type": "code",
   "execution_count": null,
   "metadata": {},
   "outputs": [],
   "source": [
    "def preprocess_word(word):\n",
    "    preprocessed_word = ''\n",
    "    for idx, ch in enumerate(word):\n",
    "        if idx == 0:\n",
    "            preprocessed_word += ch.upper()\n",
    "        else:\n",
    "            preprocessed_word += ch.lower()\n",
    "    return preprocessed_word                                   \n",
    "\n",
    "def solution(s):\n",
    "    return ' '.join(preprocess_word(word) for word in s.split(\" \"))"
   ]
  }
 ],
 "metadata": {
  "kernelspec": {
   "display_name": "Python 3",
   "language": "python",
   "name": "python3"
  },
  "language_info": {
   "codemirror_mode": {
    "name": "ipython",
    "version": 3
   },
   "file_extension": ".py",
   "mimetype": "text/x-python",
   "name": "python",
   "nbconvert_exporter": "python",
   "pygments_lexer": "ipython3",
   "version": "3.8.5"
  }
 },
 "nbformat": 4,
 "nbformat_minor": 4
}
