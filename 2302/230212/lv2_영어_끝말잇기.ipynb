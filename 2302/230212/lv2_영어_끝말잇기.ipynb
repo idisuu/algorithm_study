{
 "cells": [
  {
   "cell_type": "code",
   "execution_count": null,
   "metadata": {},
   "outputs": [],
   "source": [
    "def get_false_index(word):\n",
    "    word_dict = {}\n",
    "    for idx, (front, back) in enumerate(zip(word, word[1:])):\n",
    "        word_dict[front] = 1\n",
    "        if word_dict.get(back):\n",
    "            return idx + 2\n",
    "        if front[-1] != back[0]:\n",
    "            return idx +2\n",
    "\n",
    "def solution(n, words):\n",
    "    false_index = get_false_index(words)\n",
    "    if not false_index:\n",
    "        return [0, 0]    \n",
    "    if false_index % n:\n",
    "        turn = false_index // n + 1\n",
    "    else:\n",
    "        turn = false_index // n         \n",
    "    if not false_index % n:\n",
    "        people = n\n",
    "    else:\n",
    "        people = false_index % n\n",
    "    return [people, turn]"
   ]
  }
 ],
 "metadata": {
  "kernelspec": {
   "display_name": "Python 3",
   "language": "python",
   "name": "python3"
  },
  "language_info": {
   "codemirror_mode": {
    "name": "ipython",
    "version": 3
   },
   "file_extension": ".py",
   "mimetype": "text/x-python",
   "name": "python",
   "nbconvert_exporter": "python",
   "pygments_lexer": "ipython3",
   "version": "3.8.5"
  }
 },
 "nbformat": 4,
 "nbformat_minor": 4
}
