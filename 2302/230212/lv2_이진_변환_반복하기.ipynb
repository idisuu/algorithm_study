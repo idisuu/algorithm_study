{
 "cells": [
  {
   "cell_type": "code",
   "execution_count": null,
   "metadata": {},
   "outputs": [],
   "source": [
    "def binary_transform(num):\n",
    "    transfomred = \"\"\n",
    "    for i in range(18, -1, -1):\n",
    "        if 2 ** i <= num:\n",
    "            transfomred += '1'\n",
    "            num -= 2 ** i        \n",
    "        else:\n",
    "            transfomred += '0'\n",
    "    return str(int(transfomred)) \n",
    "\n",
    "def solution(s):\n",
    "    transform_cnt = 0\n",
    "    zero_cnt = 0\n",
    "    while True:\n",
    "        if s == \"1\":\n",
    "            break\n",
    "        transform_cnt+= 1\n",
    "        new_s = \"\"\n",
    "        for num in s:\n",
    "            if num == \"0\":\n",
    "                zero_cnt += 1\n",
    "            elif num == \"1\":\n",
    "                new_s += \"1\"\n",
    "        s = binary_transform(len(new_s))\n",
    "    return [transform_cnt, zero_cnt]"
   ]
  }
 ],
 "metadata": {
  "kernelspec": {
   "display_name": "Python 3",
   "language": "python",
   "name": "python3"
  },
  "language_info": {
   "codemirror_mode": {
    "name": "ipython",
    "version": 3
   },
   "file_extension": ".py",
   "mimetype": "text/x-python",
   "name": "python",
   "nbconvert_exporter": "python",
   "pygments_lexer": "ipython3",
   "version": "3.8.5"
  }
 },
 "nbformat": 4,
 "nbformat_minor": 4
}
