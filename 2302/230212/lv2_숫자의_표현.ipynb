{
 "cells": [
  {
   "cell_type": "code",
   "execution_count": null,
   "metadata": {},
   "outputs": [],
   "source": [
    "import math \n",
    "def range_sum(start_index, end_index):\n",
    "    end_sum = end_index * (end_index + 1) / 2\n",
    "    start_sum = ((start_index - 1) * (start_index + 1 - 1)) / 2\n",
    "    return end_sum - start_sum\n",
    "\n",
    "def solution(n):\n",
    "    num = n\n",
    "    if num == 1:\n",
    "        return 1\n",
    "    max_index = math.ceil(num / 2)\n",
    "    cnt = 1\n",
    "\n",
    "    start_index = 1\n",
    "    end_index = 1\n",
    "    while True:\n",
    "        sum_value = range_sum(start_index, end_index)\n",
    "        if sum_value < num:\n",
    "            end_index += 1\n",
    "        else:\n",
    "            if sum_value == num:\n",
    "                cnt += 1\n",
    "            start_index += 1\n",
    "        if start_index > max_index:\n",
    "            break\n",
    "    return cnt"
   ]
  }
 ],
 "metadata": {
  "kernelspec": {
   "display_name": "Python 3",
   "language": "python",
   "name": "python3"
  },
  "language_info": {
   "codemirror_mode": {
    "name": "ipython",
    "version": 3
   },
   "file_extension": ".py",
   "mimetype": "text/x-python",
   "name": "python",
   "nbconvert_exporter": "python",
   "pygments_lexer": "ipython3",
   "version": "3.8.5"
  }
 },
 "nbformat": 4,
 "nbformat_minor": 4
}
