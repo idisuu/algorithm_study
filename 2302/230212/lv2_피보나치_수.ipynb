{
 "cells": [
  {
   "cell_type": "code",
   "execution_count": null,
   "metadata": {},
   "outputs": [],
   "source": [
    "def solution(n):\n",
    "    arr = [0 for _ in range(n + 1)]\n",
    "    arr[1] = 1\n",
    "    arr[2] = 1\n",
    "    for idx in range(3, n+1):\n",
    "        arr[idx] = arr[idx-2] + arr[idx-1]\n",
    "    return arr[n] % 1234567"
   ]
  }
 ],
 "metadata": {
  "kernelspec": {
   "display_name": "Python 3",
   "language": "python",
   "name": "python3"
  },
  "language_info": {
   "codemirror_mode": {
    "name": "ipython",
    "version": 3
   },
   "file_extension": ".py",
   "mimetype": "text/x-python",
   "name": "python",
   "nbconvert_exporter": "python",
   "pygments_lexer": "ipython3",
   "version": "3.8.5"
  }
 },
 "nbformat": 4,
 "nbformat_minor": 4
}
