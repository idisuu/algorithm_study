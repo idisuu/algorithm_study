{
 "cells": [
  {
   "cell_type": "code",
   "execution_count": null,
   "metadata": {},
   "outputs": [],
   "source": [
    "from itertools import combinations\n",
    "\n",
    "def check_prime(num):\n",
    "    for i in range(2, num):\n",
    "        if not num % i:\n",
    "            return False\n",
    "    return True\n",
    "\n",
    "def solution(nums):\n",
    "    comb_sum_list = list(([sum(comb) for comb in combinations(nums, 3)]))    \n",
    "    cnt = 0\n",
    "    for num in comb_sum_list:\n",
    "        if check_prime(num):\n",
    "            cnt += 1\n",
    "    return cnt"
   ]
  }
 ],
 "metadata": {
  "kernelspec": {
   "display_name": "Python 3",
   "language": "python",
   "name": "python3"
  },
  "language_info": {
   "codemirror_mode": {
    "name": "ipython",
    "version": 3
   },
   "file_extension": ".py",
   "mimetype": "text/x-python",
   "name": "python",
   "nbconvert_exporter": "python",
   "pygments_lexer": "ipython3",
   "version": "3.8.5"
  }
 },
 "nbformat": 4,
 "nbformat_minor": 4
}
