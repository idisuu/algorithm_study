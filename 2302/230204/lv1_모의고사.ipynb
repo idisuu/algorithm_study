{
 "cells": [
  {
   "cell_type": "code",
   "execution_count": null,
   "metadata": {},
   "outputs": [],
   "source": [
    "def solution(answers):\n",
    "    score_list = {1:0, 2:0, 3:0}\n",
    "    \n",
    "    p1 = [1,2,3,4,5] *2000\n",
    "    p2 = [2,1,2,3,2,4,2,5] * 2000\n",
    "    p3 = [3,3,1,1,2,2,4,4,5,5] * 2000\n",
    "    \n",
    "    for p1, p2, p3, answer in zip(p1, p2, p3, answers):\n",
    "        if p1 == answer:\n",
    "            score_list[1] += 1\n",
    "        if p2 == answer:\n",
    "            score_list[2] += 1            \n",
    "        if p3 == answer:\n",
    "            score_list[3] += 1    \n",
    "            \n",
    "    rank = []\n",
    "    max_score = 0\n",
    "    for student, score in sorted(score_list.items(), key=lambda x: x[1], reverse=True):\n",
    "        if score >= max_score:\n",
    "            max_score = score\n",
    "            rank.append(student)    \n",
    "    return sorted(rank)"
   ]
  }
 ],
 "metadata": {
  "kernelspec": {
   "display_name": "Python 3",
   "language": "python",
   "name": "python3"
  },
  "language_info": {
   "codemirror_mode": {
    "name": "ipython",
    "version": 3
   },
   "file_extension": ".py",
   "mimetype": "text/x-python",
   "name": "python",
   "nbconvert_exporter": "python",
   "pygments_lexer": "ipython3",
   "version": "3.8.5"
  }
 },
 "nbformat": 4,
 "nbformat_minor": 4
}
