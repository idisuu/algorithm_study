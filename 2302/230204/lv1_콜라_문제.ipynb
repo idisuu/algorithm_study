{
 "cells": [
  {
   "cell_type": "code",
   "execution_count": null,
   "metadata": {},
   "outputs": [],
   "source": [
    "def solution(a, b, n):\n",
    "    cnt = 0\n",
    "    while True:\n",
    "        temp_cnt = n // a\n",
    "\n",
    "        if not temp_cnt:\n",
    "            break\n",
    "        cnt += (b*temp_cnt)\n",
    "        n -= (a*temp_cnt)\n",
    "        n += (b*temp_cnt)\n",
    "    return cnt"
   ]
  }
 ],
 "metadata": {
  "kernelspec": {
   "display_name": "Python 3",
   "language": "python",
   "name": "python3"
  },
  "language_info": {
   "codemirror_mode": {
    "name": "ipython",
    "version": 3
   },
   "file_extension": ".py",
   "mimetype": "text/x-python",
   "name": "python",
   "nbconvert_exporter": "python",
   "pygments_lexer": "ipython3",
   "version": "3.8.5"
  }
 },
 "nbformat": 4,
 "nbformat_minor": 4
}
