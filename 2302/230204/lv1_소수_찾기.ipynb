{
 "cells": [
  {
   "cell_type": "code",
   "execution_count": 69,
   "metadata": {},
   "outputs": [],
   "source": [
    "from collections import deque\n",
    "\n",
    "def solution(n):\n",
    "    prime_list = [True for i in range(n)]\n",
    "    cnt = 0\n",
    "    for idx, i in enumerate(prime_list):\n",
    "        if not i:\n",
    "            continue\n",
    "        prime = idx + 1\n",
    "        if prime == 1:\n",
    "            continue\n",
    "\n",
    "        cnt += 1\n",
    "\n",
    "        for num in range(prime, n+1, prime):\n",
    "            prime_list[num-1] = False\n",
    "            \n",
    "    return cnt"
   ]
  }
 ],
 "metadata": {
  "kernelspec": {
   "display_name": "Python 3",
   "language": "python",
   "name": "python3"
  },
  "language_info": {
   "codemirror_mode": {
    "name": "ipython",
    "version": 3
   },
   "file_extension": ".py",
   "mimetype": "text/x-python",
   "name": "python",
   "nbconvert_exporter": "python",
   "pygments_lexer": "ipython3",
   "version": "3.8.5"
  }
 },
 "nbformat": 4,
 "nbformat_minor": 4
}
