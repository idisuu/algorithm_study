{
 "cells": [
  {
   "cell_type": "code",
   "execution_count": null,
   "metadata": {},
   "outputs": [],
   "source": [
    "def solution(s):\n",
    "    character_dict = {ch: -1 for ch in list(set(s))}\n",
    "    answer = []\n",
    "    for idx, ch in enumerate(s):\n",
    "        if character_dict[ch] < 0:\n",
    "            answer.append(-1)    \n",
    "            character_dict[ch] = idx\n",
    "        else:\n",
    "            answer.append(idx - character_dict[ch])\n",
    "            character_dict[ch] = idx\n",
    "    return answer"
   ]
  }
 ],
 "metadata": {
  "kernelspec": {
   "display_name": "Python 3",
   "language": "python",
   "name": "python3"
  },
  "language_info": {
   "codemirror_mode": {
    "name": "ipython",
    "version": 3
   },
   "file_extension": ".py",
   "mimetype": "text/x-python",
   "name": "python",
   "nbconvert_exporter": "python",
   "pygments_lexer": "ipython3",
   "version": "3.8.5"
  }
 },
 "nbformat": 4,
 "nbformat_minor": 4
}
