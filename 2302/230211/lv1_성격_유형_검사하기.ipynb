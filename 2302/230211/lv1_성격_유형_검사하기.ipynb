{
 "cells": [
  {
   "cell_type": "code",
   "execution_count": null,
   "metadata": {},
   "outputs": [],
   "source": [
    "def solution(survey, choices):\n",
    "    answer = ''\n",
    "    score_list = [0, 0, 0, 0]\n",
    "    for s, choice in zip(survey, choices):\n",
    "        print('a')\n",
    "        if s == 'RT':\n",
    "            score_list[0] += (choice - 4)\n",
    "        elif s == 'CF':\n",
    "            score_list[1] += (choice - 4)\n",
    "        elif s == 'MJ':\n",
    "            score_list[2] += (choice - 4)\n",
    "        elif s == 'NA':\n",
    "            score_list[3] += (choice - 4)\n",
    "\n",
    "        if s == 'TR':\n",
    "            score_list[0] -= (choice - 4)\n",
    "        elif s == 'FC':\n",
    "            score_list[1] -= (choice - 4)\n",
    "        elif s == 'JM':\n",
    "            score_list[2] -= (choice - 4)\n",
    "        elif s == 'AN':\n",
    "            score_list[3] -= (choice - 4)\n",
    "\n",
    "\n",
    "    if score_list[0] <= 0:\n",
    "        answer += 'R'\n",
    "    else:\n",
    "        answer += 'T'\n",
    "\n",
    "    if score_list[1] <= 0:\n",
    "        answer += 'C'\n",
    "    else:\n",
    "        answer += 'F'\n",
    "\n",
    "    if score_list[2] < 0:\n",
    "        answer += 'M'\n",
    "    else:\n",
    "        answer += 'J'\n",
    "\n",
    "    if score_list[3] < 0:\n",
    "        answer += 'N'\n",
    "    else:\n",
    "        answer += 'A'\n",
    "\n",
    "    return answer"
   ]
  }
 ],
 "metadata": {
  "kernelspec": {
   "display_name": "Python 3",
   "language": "python",
   "name": "python3"
  },
  "language_info": {
   "codemirror_mode": {
    "name": "ipython",
    "version": 3
   },
   "file_extension": ".py",
   "mimetype": "text/x-python",
   "name": "python",
   "nbconvert_exporter": "python",
   "pygments_lexer": "ipython3",
   "version": "3.8.5"
  }
 },
 "nbformat": 4,
 "nbformat_minor": 4
}
