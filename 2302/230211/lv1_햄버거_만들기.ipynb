{
 "cells": [
  {
   "cell_type": "code",
   "execution_count": null,
   "metadata": {},
   "outputs": [],
   "source": [
    "def solution(ingredient):\n",
    "    cnt = 0\n",
    "    target = [1, 2, 3, 1]\n",
    "    stack = []\n",
    "    for i in ingredient:\n",
    "        stack.append(i)\n",
    "        if stack[-4:] == target:\n",
    "            cnt += 1\n",
    "            for _ in range(4):\n",
    "                stack.pop()\n",
    "    return cnt"
   ]
  }
 ],
 "metadata": {
  "kernelspec": {
   "display_name": "Python 3",
   "language": "python",
   "name": "python3"
  },
  "language_info": {
   "codemirror_mode": {
    "name": "ipython",
    "version": 3
   },
   "file_extension": ".py",
   "mimetype": "text/x-python",
   "name": "python",
   "nbconvert_exporter": "python",
   "pygments_lexer": "ipython3",
   "version": "3.8.5"
  }
 },
 "nbformat": 4,
 "nbformat_minor": 4
}
