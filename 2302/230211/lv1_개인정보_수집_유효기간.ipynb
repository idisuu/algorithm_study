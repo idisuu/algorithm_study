{
 "cells": [
  {
   "cell_type": "code",
   "execution_count": null,
   "metadata": {},
   "outputs": [],
   "source": [
    "def parse_date_to_month(date):\n",
    "    date_parsed = date.replace('.', '')    \n",
    "    year = int(date_parsed[:4])\n",
    "    month = int(date_parsed[4:6])\n",
    "    day = int(date_parsed[6:8])\n",
    "    converted_year_month = year * 12 + month\n",
    "    return converted_year_month, day\n",
    "\n",
    "def solution(today, terms, privacies):\n",
    "    term_duration_dict = {term.split()[0]:int(term.split()[1]) for term in terms}\n",
    "    today_by_month, today_by_day = parse_date_to_month(today)\n",
    "    answer = []\n",
    "    for idx, privacie in enumerate(privacies):\n",
    "        date, term = privacie.split()    \n",
    "        duration = term_duration_dict[term]    \n",
    "        start_month, start_day = parse_date_to_month(date)    \n",
    "        expire_month = start_month + duration\n",
    "        if expire_month > today_by_month:\n",
    "            continue\n",
    "        elif today_by_month > expire_month:\n",
    "            answer.append(idx+1)\n",
    "        elif today_by_month == expire_month:\n",
    "            if today_by_day >= start_day:\n",
    "                answer.append(idx+1)\n",
    "    return answer  "
   ]
  }
 ],
 "metadata": {
  "kernelspec": {
   "display_name": "Python 3",
   "language": "python",
   "name": "python3"
  },
  "language_info": {
   "codemirror_mode": {
    "name": "ipython",
    "version": 3
   },
   "file_extension": ".py",
   "mimetype": "text/x-python",
   "name": "python",
   "nbconvert_exporter": "python",
   "pygments_lexer": "ipython3",
   "version": "3.8.5"
  }
 },
 "nbformat": 4,
 "nbformat_minor": 4
}
