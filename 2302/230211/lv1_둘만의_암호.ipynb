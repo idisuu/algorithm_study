{
 "cells": [
  {
   "cell_type": "code",
   "execution_count": null,
   "metadata": {},
   "outputs": [],
   "source": [
    "import string\n",
    "\n",
    "def solution(s, skip, index):\n",
    "    alphabet_list = [i for i in string.ascii_lowercase if i not in skip]\n",
    "    alphabet_list_length = len(alphabet_list)\n",
    "    alphabet_index_dict = {alphabet: index for alphabet, index in zip(alphabet_list, range(alphabet_list_length))}\n",
    "    index_alphabet_dict = {index: alphabet for alphabet, index in zip(alphabet_list, range(alphabet_list_length))}\n",
    "    answer = ''\n",
    "    for alphabet in s:\n",
    "        new_index = (alphabet_index_dict[alphabet] + index) % (alphabet_list_length)    \n",
    "        new_alphabet = index_alphabet_dict[new_index]\n",
    "        answer += new_alphabet\n",
    "    return answer"
   ]
  }
 ],
 "metadata": {
  "kernelspec": {
   "display_name": "Python 3",
   "language": "python",
   "name": "python3"
  },
  "language_info": {
   "codemirror_mode": {
    "name": "ipython",
    "version": 3
   },
   "file_extension": ".py",
   "mimetype": "text/x-python",
   "name": "python",
   "nbconvert_exporter": "python",
   "pygments_lexer": "ipython3",
   "version": "3.8.5"
  }
 },
 "nbformat": 4,
 "nbformat_minor": 4
}
