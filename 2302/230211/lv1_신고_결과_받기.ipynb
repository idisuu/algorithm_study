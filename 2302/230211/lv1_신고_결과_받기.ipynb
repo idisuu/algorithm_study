{
 "cells": [
  {
   "cell_type": "code",
   "execution_count": null,
   "metadata": {},
   "outputs": [],
   "source": [
    "def solution(id_list, report, k):\n",
    "    id_index_dict = {id:idx for id, idx in zip(id_list, range(len(id_list)))}\n",
    "    unique_report = list(set(report))\n",
    "    reporterd_reporter_dict = {}\n",
    "    for r in unique_report:\n",
    "        reporter, reported = r.split()\n",
    "        if not reporterd_reporter_dict.get(reported):\n",
    "            reporterd_reporter_dict[reported] = []\n",
    "        reporterd_reporter_dict[reported].append(reporter)\n",
    "\n",
    "    answer = [0 for _ in range(len(id_list))]\n",
    "    for reported, reporter_list in list(reporterd_reporter_dict.items()):\n",
    "        if len(reporter_list) >= k:\n",
    "            for reporter in reporter_list:\n",
    "                answer[id_index_dict[reporter]] += 1\n",
    "    return answer"
   ]
  }
 ],
 "metadata": {
  "kernelspec": {
   "display_name": "Python 3",
   "language": "python",
   "name": "python3"
  },
  "language_info": {
   "codemirror_mode": {
    "name": "ipython",
    "version": 3
   },
   "file_extension": ".py",
   "mimetype": "text/x-python",
   "name": "python",
   "nbconvert_exporter": "python",
   "pygments_lexer": "ipython3",
   "version": "3.8.5"
  }
 },
 "nbformat": 4,
 "nbformat_minor": 4
}
