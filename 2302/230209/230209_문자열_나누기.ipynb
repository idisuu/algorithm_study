{
 "cells": [
  {
   "cell_type": "code",
   "execution_count": null,
   "metadata": {},
   "outputs": [],
   "source": [
    "def divide_sentence(sentence):\n",
    "    if not sentence:\n",
    "        return False\n",
    "    target = sentence[0]\n",
    "    cnt_target = 0\n",
    "    cnt_not_target = 0\n",
    "    sentence_left = [ch for ch in sentence]\n",
    "    for ch in sentence:\n",
    "        if ch == target:\n",
    "            cnt_target += 1\n",
    "        else:\n",
    "            cnt_not_target += 1\n",
    "        sentence_left.pop(0)                \n",
    "        if cnt_target == cnt_not_target:\n",
    "            break\n",
    "    return ''.join(sentence_left)\n",
    "\n",
    "def solution(s):\n",
    "    answer = 0\n",
    "    while True:\n",
    "        s = divide_sentence(s)\n",
    "        answer += 1\n",
    "        if not s:\n",
    "            break\n",
    "    return answer"
   ]
  }
 ],
 "metadata": {
  "kernelspec": {
   "display_name": "Python 3",
   "language": "python",
   "name": "python3"
  },
  "language_info": {
   "codemirror_mode": {
    "name": "ipython",
    "version": 3
   },
   "file_extension": ".py",
   "mimetype": "text/x-python",
   "name": "python",
   "nbconvert_exporter": "python",
   "pygments_lexer": "ipython3",
   "version": "3.8.5"
  }
 },
 "nbformat": 4,
 "nbformat_minor": 4
}
