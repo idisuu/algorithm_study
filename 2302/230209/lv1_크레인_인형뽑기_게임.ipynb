{
 "cells": [
  {
   "cell_type": "code",
   "execution_count": null,
   "metadata": {},
   "outputs": [],
   "source": [
    "def solution(board, moves):\n",
    "    reversed_list = [list(i)[::-1] for i in list(zip(*board[::-1]))]\n",
    "    cnt = 0\n",
    "    q = []\n",
    "    for move in moves:\n",
    "        target_index = move - 1\n",
    "        target = reversed_list[target_index]\n",
    "        while target:\n",
    "            if target[0] == 0:\n",
    "                target.pop(0)\n",
    "            else:\n",
    "                num = target.pop(0)\n",
    "                if q and num == q[-1]:\n",
    "                    cnt += 2\n",
    "                    q.pop()\n",
    "                else:\n",
    "                    q.append(num)\n",
    "                break\n",
    "    return cnt"
   ]
  }
 ],
 "metadata": {
  "kernelspec": {
   "display_name": "Python 3",
   "language": "python",
   "name": "python3"
  },
  "language_info": {
   "codemirror_mode": {
    "name": "ipython",
    "version": 3
   },
   "file_extension": ".py",
   "mimetype": "text/x-python",
   "name": "python",
   "nbconvert_exporter": "python",
   "pygments_lexer": "ipython3",
   "version": "3.8.5"
  }
 },
 "nbformat": 4,
 "nbformat_minor": 4
}
