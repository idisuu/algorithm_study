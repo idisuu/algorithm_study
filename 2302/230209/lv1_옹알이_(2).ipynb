{
 "cells": [
  {
   "cell_type": "code",
   "execution_count": null,
   "metadata": {},
   "outputs": [],
   "source": [
    "def replace_word(string):\n",
    "    string = string.replace('aya', '1').replace('ye', '2').replace('woo', '3').replace('ma', '4')\n",
    "    return string\n",
    "\n",
    "def solution(babbling):\n",
    "    cnt = 0\n",
    "    for word in babbling:\n",
    "        replaced_word = replace_word(word)\n",
    "        flag =  True\n",
    "        previous = None\n",
    "        for ch in replaced_word:\n",
    "            if ch in ['1', '2', '3', '4'] and ch == previous:\n",
    "                flag = False\n",
    "                break        \n",
    "            if ch not in ['1', '2', '3', '4']:\n",
    "                flag = False\n",
    "                break\n",
    "            previous = ch\n",
    "        if flag:\n",
    "            cnt += 1\n",
    "    return cnt"
   ]
  }
 ],
 "metadata": {
  "kernelspec": {
   "display_name": "Python 3",
   "language": "python",
   "name": "python3"
  },
  "language_info": {
   "codemirror_mode": {
    "name": "ipython",
    "version": 3
   },
   "file_extension": ".py",
   "mimetype": "text/x-python",
   "name": "python",
   "nbconvert_exporter": "python",
   "pygments_lexer": "ipython3",
   "version": "3.8.5"
  }
 },
 "nbformat": 4,
 "nbformat_minor": 4
}
