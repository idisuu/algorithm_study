{
 "cells": [
  {
   "cell_type": "code",
   "execution_count": null,
   "metadata": {},
   "outputs": [],
   "source": [
    "position_dict = {\n",
    "    1: (0,0),\n",
    "    2: (0,1),\n",
    "    3: (0,2),\n",
    "    4: (1,0),\n",
    "    5: (1,1),\n",
    "    6: (1,2),\n",
    "    7: (2,0),\n",
    "    8: (2,1),\n",
    "    9: (2,2),\n",
    "    '*': (3,0),\n",
    "    0: (3,1),\n",
    "    '#': (3,2),    \n",
    "}\n",
    "\n",
    "def solution(numbers, hand):\n",
    "    left_position = '*'\n",
    "    right_position = '#'\n",
    "    answer = ''\n",
    "    for num in numbers:\n",
    "        if num in [1, 4, 7]:\n",
    "            answer += 'L'\n",
    "            left_position = num\n",
    "        elif num in [3, 6, 9]:\n",
    "            answer += 'R'\n",
    "            right_position = num\n",
    "        else:\n",
    "            target_row, target_col = position_dict[num]\n",
    "            left_row, left_col = position_dict[left_position]\n",
    "            right_row, right_col = position_dict[right_position]\n",
    "\n",
    "            left_distance = abs(target_row-left_row) + abs(target_col-left_col)\n",
    "            right_distance = abs(target_row-right_row) + abs(target_col-right_col)\n",
    "\n",
    "            if left_distance < right_distance:\n",
    "                answer += 'L'\n",
    "                left_position = num\n",
    "            elif right_distance < left_distance:\n",
    "                answer += 'R'\n",
    "                right_position = num\n",
    "            elif left_distance == right_distance:\n",
    "                if hand == 'left':\n",
    "                    answer += 'L'                \n",
    "                    left_position = num\n",
    "                elif hand == 'right':\n",
    "                    answer += 'R'\n",
    "                    right_position = num\n",
    "    return answer"
   ]
  }
 ],
 "metadata": {
  "kernelspec": {
   "display_name": "Python 3",
   "language": "python",
   "name": "python3"
  },
  "language_info": {
   "codemirror_mode": {
    "name": "ipython",
    "version": 3
   },
   "file_extension": ".py",
   "mimetype": "text/x-python",
   "name": "python",
   "nbconvert_exporter": "python",
   "pygments_lexer": "ipython3",
   "version": "3.8.5"
  }
 },
 "nbformat": 4,
 "nbformat_minor": 4
}
