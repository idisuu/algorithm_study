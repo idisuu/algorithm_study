{
 "cells": [
  {
   "cell_type": "code",
   "execution_count": null,
   "metadata": {},
   "outputs": [],
   "source": [
    "import math\n",
    "\n",
    "def parse_time(time):\n",
    "    hour, minute = time.split(':')\n",
    "    return int(hour) * 60 + int(minute)\n",
    "\n",
    "def calculate_fees(time, fees):\n",
    "    default_time = fees[0]\n",
    "    default_fee = fees[1]\n",
    "    additional_time = fees[2]\n",
    "    additional_fee = fees[3]\n",
    "    \n",
    "    if time <= default_time:\n",
    "        return default_fee\n",
    "    \n",
    "    over_time = time - default_time\n",
    "    fee_charged = math.ceil(over_time / additional_time) * additional_fee    \n",
    "    return default_fee + fee_charged    \n",
    "\n",
    "\n",
    "def solution(fees, records):\n",
    "    dictionary = {}\n",
    "    for record in records:\n",
    "        time, car_number, state = record.split()\n",
    "        time = parse_time(time)\n",
    "        if not dictionary.get(car_number):\n",
    "            dictionary[car_number] = {}\n",
    "        dictionary[car_number][state] = time\n",
    "        if state == 'OUT':\n",
    "            if not dictionary[car_number].get('time'):\n",
    "                dictionary[car_number]['time'] = 0            \n",
    "            dictionary[car_number]['time'] += dictionary[car_number]['OUT'] - dictionary[car_number]['IN']\n",
    "            dictionary[car_number].pop('IN')\n",
    "            dictionary[car_number].pop('OUT')\n",
    "    result = []\n",
    "    for car_number, status_dict in sorted(dictionary.items()):\n",
    "        if status_dict.get('IN', -1) >=  0:\n",
    "            if not status_dict.get('time'):\n",
    "                status_dict['time'] = 0\n",
    "            status_dict['time'] += parse_time(\"23:59\") - status_dict['IN']\n",
    "            status_dict.pop('IN')\n",
    "        price = calculate_fees(status_dict['time'], fees)\n",
    "        result.append(price)\n",
    "    return result"
   ]
  }
 ],
 "metadata": {
  "kernelspec": {
   "display_name": "Python 3",
   "language": "python",
   "name": "python3"
  },
  "language_info": {
   "codemirror_mode": {
    "name": "ipython",
    "version": 3
   },
   "file_extension": ".py",
   "mimetype": "text/x-python",
   "name": "python",
   "nbconvert_exporter": "python",
   "pygments_lexer": "ipython3",
   "version": "3.8.5"
  }
 },
 "nbformat": 4,
 "nbformat_minor": 4
}
