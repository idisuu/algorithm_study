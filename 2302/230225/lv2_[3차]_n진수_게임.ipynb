{
 "cells": [
  {
   "cell_type": "code",
   "execution_count": null,
   "metadata": {},
   "outputs": [],
   "source": [
    "def convert(num, n, conversion_dict):\n",
    "    if num == 0:\n",
    "        return str(0)\n",
    "    converted = ''\n",
    "    while num:\n",
    "        left = str(num % n)\n",
    "        converted += conversion_dict.get(left, left)\n",
    "        num = num // n\n",
    "    return converted[::-1]\n",
    "\n",
    "conversion_dict = {\n",
    "    '10': 'A',\n",
    "    '11': 'B',\n",
    "    '12': 'C',\n",
    "    '13': 'D',\n",
    "    '14': 'E',\n",
    "    '15': 'F',\n",
    "}\n",
    "\n",
    "def solution(n, t, m, p):\n",
    "    result = ''\n",
    "    num = 0\n",
    "    cnt = 0\n",
    "    while True:\n",
    "        converted = convert(num, n, conversion_dict)\n",
    "        for ch in converted:\n",
    "            result += ch    \n",
    "        cnt += 1\n",
    "        if len(result) >= (t+1)*m:\n",
    "            break\n",
    "        num += 1\n",
    "\n",
    "    answer = ''\n",
    "    for num in range(p-1, len(result) + 1, m):\n",
    "        answer += result[num]\n",
    "        if len(answer) == t:\n",
    "            break\n",
    "    return answer"
   ]
  }
 ],
 "metadata": {
  "kernelspec": {
   "display_name": "Python 3",
   "language": "python",
   "name": "python3"
  },
  "language_info": {
   "codemirror_mode": {
    "name": "ipython",
    "version": 3
   },
   "file_extension": ".py",
   "mimetype": "text/x-python",
   "name": "python",
   "nbconvert_exporter": "python",
   "pygments_lexer": "ipython3",
   "version": "3.8.5"
  }
 },
 "nbformat": 4,
 "nbformat_minor": 4
}
