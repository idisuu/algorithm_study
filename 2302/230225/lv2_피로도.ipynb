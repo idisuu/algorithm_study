{
 "cells": [
  {
   "cell_type": "code",
   "execution_count": null,
   "metadata": {},
   "outputs": [],
   "source": [
    "def dfs(k, cnt, visited, dungeons):\n",
    "    global max_cnt\n",
    "    max_cnt = max(max_cnt, cnt)\n",
    "    for idx in range(len(visited)):\n",
    "        if not visited[idx] and k >= dungeons[idx][0]:\n",
    "            cost = dungeons[idx][1]\n",
    "            visited[idx] = True\n",
    "            dfs(k-cost, cnt+1, visited, dungeons)\n",
    "            visited[idx] = False\n",
    "\n",
    "max_cnt = 0\n",
    "def solution(k, dungeons):\n",
    "    visited = [False for _ in range(len(dungeons))]\n",
    "    dfs(k, 0, visited, dungeons)\n",
    "    return max_cnt"
   ]
  }
 ],
 "metadata": {
  "kernelspec": {
   "display_name": "Python 3",
   "language": "python",
   "name": "python3"
  },
  "language_info": {
   "codemirror_mode": {
    "name": "ipython",
    "version": 3
   },
   "file_extension": ".py",
   "mimetype": "text/x-python",
   "name": "python",
   "nbconvert_exporter": "python",
   "pygments_lexer": "ipython3",
   "version": "3.8.5"
  }
 },
 "nbformat": 4,
 "nbformat_minor": 4
}
