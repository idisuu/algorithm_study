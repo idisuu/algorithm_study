{
 "cells": [
  {
   "cell_type": "code",
   "execution_count": null,
   "metadata": {},
   "outputs": [],
   "source": [
    "def search_dictionary(word, dictionary):\n",
    "    if not word:\n",
    "        return None, None\n",
    "    for i in range(len(word), 0, -1):\n",
    "        target = word[:i]\n",
    "        next_target = word[:i+1]\n",
    "        if dictionary.get(target):\n",
    "            return target, next_target\n",
    "\n",
    "def solution(msg):\n",
    "    dictionary = {}\n",
    "    for idx, i in enumerate(range(ord('A'), ord('Z') + 1)):\n",
    "        dictionary[chr(i)] = idx + 1\n",
    "\n",
    "    answer = []\n",
    "    while True:\n",
    "        target, next_target = search_dictionary(msg, dictionary)\n",
    "        if not target:\n",
    "            break\n",
    "        answer.append(dictionary[target])\n",
    "        if not dictionary.get(next_target):\n",
    "            dictionary[next_target] = len(dictionary) + 1\n",
    "        msg = msg[len(target):]\n",
    "    return answer"
   ]
  }
 ],
 "metadata": {
  "kernelspec": {
   "display_name": "Python 3",
   "language": "python",
   "name": "python3"
  },
  "language_info": {
   "codemirror_mode": {
    "name": "ipython",
    "version": 3
   },
   "file_extension": ".py",
   "mimetype": "text/x-python",
   "name": "python",
   "nbconvert_exporter": "python",
   "pygments_lexer": "ipython3",
   "version": "3.8.5"
  }
 },
 "nbformat": 4,
 "nbformat_minor": 4
}
