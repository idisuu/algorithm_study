{
 "cells": [
  {
   "cell_type": "code",
   "execution_count": null,
   "metadata": {},
   "outputs": [],
   "source": [
    "from heapq import heappush, heappop\n",
    "\n",
    "def solution(scoville, K):\n",
    "    n = 0\n",
    "    heap = sorted(scoville)\n",
    "    while True:\n",
    "        min_value =  heappop(heap)\n",
    "        if min_value >= K:\n",
    "            break\n",
    "        if len(heap) == 0:\n",
    "            return -1\n",
    "        second_min_value = heappop(heap)\n",
    "        heappush(heap, min_value + second_min_value*2)\n",
    "        n += 1\n",
    "    return n"
   ]
  }
 ],
 "metadata": {
  "kernelspec": {
   "display_name": "Python 3",
   "language": "python",
   "name": "python3"
  },
  "language_info": {
   "codemirror_mode": {
    "name": "ipython",
    "version": 3
   },
   "file_extension": ".py",
   "mimetype": "text/x-python",
   "name": "python",
   "nbconvert_exporter": "python",
   "pygments_lexer": "ipython3",
   "version": "3.8.5"
  }
 },
 "nbformat": 4,
 "nbformat_minor": 4
}
