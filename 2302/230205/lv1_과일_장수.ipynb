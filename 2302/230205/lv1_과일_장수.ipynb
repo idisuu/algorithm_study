{
 "cells": [
  {
   "cell_type": "code",
   "execution_count": null,
   "metadata": {},
   "outputs": [],
   "source": [
    "def solution(k, m, score):\n",
    "    total_box_score = 0\n",
    "    box = []\n",
    "    for num in sorted(score, reverse=True):\n",
    "        box.append(num)\n",
    "        if len(box) == m:\n",
    "            box_score = m*min(box)\n",
    "            total_box_score += box_score\n",
    "            box = []\n",
    "    return total_box_score"
   ]
  }
 ],
 "metadata": {
  "kernelspec": {
   "display_name": "Python 3",
   "language": "python",
   "name": "python3"
  },
  "language_info": {
   "codemirror_mode": {
    "name": "ipython",
    "version": 3
   },
   "file_extension": ".py",
   "mimetype": "text/x-python",
   "name": "python",
   "nbconvert_exporter": "python",
   "pygments_lexer": "ipython3",
   "version": "3.8.5"
  }
 },
 "nbformat": 4,
 "nbformat_minor": 4
}
