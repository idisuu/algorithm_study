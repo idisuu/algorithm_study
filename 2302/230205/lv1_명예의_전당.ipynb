{
 "cells": [
  {
   "cell_type": "code",
   "execution_count": null,
   "metadata": {},
   "outputs": [],
   "source": [
    "def solution(k, score):\n",
    "    low_score_list = []\n",
    "    hall_of_fame_list = []\n",
    "    for s in score:\n",
    "        if (len(hall_of_fame_list) < k):\n",
    "            hall_of_fame_list.append(s)\n",
    "        elif (hall_of_fame_list[-1] < s):\n",
    "            hall_of_fame_list.pop()\n",
    "            hall_of_fame_list.append(s)\n",
    "        hall_of_fame_list = sorted(hall_of_fame_list, reverse=True)    \n",
    "        low_score_list.append(hall_of_fame_list[-1])\n",
    "    return low_score_list"
   ]
  }
 ],
 "metadata": {
  "kernelspec": {
   "display_name": "Python 3",
   "language": "python",
   "name": "python3"
  },
  "language_info": {
   "codemirror_mode": {
    "name": "ipython",
    "version": 3
   },
   "file_extension": ".py",
   "mimetype": "text/x-python",
   "name": "python",
   "nbconvert_exporter": "python",
   "pygments_lexer": "ipython3",
   "version": "3.8.5"
  }
 },
 "nbformat": 4,
 "nbformat_minor": 4
}
