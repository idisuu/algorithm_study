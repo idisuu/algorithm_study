{
 "cells": [
  {
   "cell_type": "code",
   "execution_count": null,
   "metadata": {},
   "outputs": [],
   "source": [
    "def get_score_list(dartResult):\n",
    "    score_list = []\n",
    "    partial_score = ''\n",
    "    for idx in range(len(dartResult)):\n",
    "        if idx == (len(dartResult) -1):\n",
    "            partial_score += dartResult[idx]\n",
    "            score_list.append(partial_score)\n",
    "            continue    \n",
    "        if (dartResult[idx].isdigit()) and (idx > 0) and (not dartResult[idx-1].isdigit()):\n",
    "            score_list.append(partial_score)\n",
    "            partial_score = ''        \n",
    "        partial_score += dartResult[idx]\n",
    "    return score_list\n",
    "\n",
    "square_dict = {'S':1, 'D':2, 'T':3}\n",
    "\n",
    "def solution(dartResult):\n",
    "    score_list = get_score_list(dartResult)\n",
    "    total_score = 0\n",
    "    for idx, score in enumerate(score_list):\n",
    "        if score[:2] == '10':\n",
    "            pure_score = 10\n",
    "            square_value = square_dict[score[2]]\n",
    "        else:\n",
    "            pure_score = int(score[0])\n",
    "            square_value = square_dict[score[1]]\n",
    "        mere_score = pure_score ** square_value\n",
    "        bonus_value = 1\n",
    "        if '#' in score:\n",
    "            bonus_value *= -1    \n",
    "        if '*' in score:\n",
    "            bonus_value *= 2\n",
    "        if (idx + 1 < len(score_list)) and ('*' in score_list[idx+1]):\n",
    "            bonus_value *= 2\n",
    "\n",
    "        score = mere_score * bonus_value\n",
    "        print(score)\n",
    "        total_score += score\n",
    "    return total_score"
   ]
  }
 ],
 "metadata": {
  "kernelspec": {
   "display_name": "Python 3",
   "language": "python",
   "name": "python3"
  },
  "language_info": {
   "codemirror_mode": {
    "name": "ipython",
    "version": 3
   },
   "file_extension": ".py",
   "mimetype": "text/x-python",
   "name": "python",
   "nbconvert_exporter": "python",
   "pygments_lexer": "ipython3",
   "version": "3.8.5"
  }
 },
 "nbformat": 4,
 "nbformat_minor": 4
}
