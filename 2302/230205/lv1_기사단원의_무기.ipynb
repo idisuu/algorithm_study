{
 "cells": [
  {
   "cell_type": "code",
   "execution_count": null,
   "metadata": {},
   "outputs": [],
   "source": [
    "def get_weapon_level(idx, limit, power):\n",
    "    cnt = 0\n",
    "    root_num = idx ** (1/2)\n",
    "\n",
    "    for i in range(1, int(root_num) + 1):\n",
    "        if (idx / i) == i:\n",
    "            cnt += 1\n",
    "            if cnt > limit:\n",
    "                return power\n",
    "            continue\n",
    "        if (idx % i) == 0:\n",
    "            cnt += 2\n",
    "        if cnt > limit:\n",
    "            return power\n",
    "    return cnt\n",
    "\n",
    "def solution(number, limit, power):\n",
    "    total_iron = 0\n",
    "    for idx in range(1, number +1):\n",
    "        weapon_level = get_weapon_level(idx, limit, power)\n",
    "        total_iron += weapon_level\n",
    "    return total_iron"
   ]
  }
 ],
 "metadata": {
  "kernelspec": {
   "display_name": "Python 3",
   "language": "python",
   "name": "python3"
  },
  "language_info": {
   "codemirror_mode": {
    "name": "ipython",
    "version": 3
   },
   "file_extension": ".py",
   "mimetype": "text/x-python",
   "name": "python",
   "nbconvert_exporter": "python",
   "pygments_lexer": "ipython3",
   "version": "3.8.5"
  }
 },
 "nbformat": 4,
 "nbformat_minor": 4
}
