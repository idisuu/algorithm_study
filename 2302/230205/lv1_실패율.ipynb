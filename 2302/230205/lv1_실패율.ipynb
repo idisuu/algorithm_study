{
 "cells": [
  {
   "cell_type": "code",
   "execution_count": null,
   "metadata": {},
   "outputs": [],
   "source": [
    "from collections import Counter\n",
    "\n",
    "def solution(N, stages):\n",
    "    stage_dict = Counter(stages)\n",
    "    fail_rate_dict = {}\n",
    "    for target in range(1, N+1):\n",
    "        num_failed = stage_dict[target]\n",
    "        num_arrived = sum(list(num for stage, num in stage_dict.items() if stage >= target))\n",
    "        if not num_arrived:\n",
    "            fail_rate = 0\n",
    "        else:\n",
    "            fail_rate = num_failed / num_arrived        \n",
    "        fail_rate_dict[target] = fail_rate\n",
    "    answer = [stage for stage, fail_rate in sorted(fail_rate_dict.items(), key=lambda x: (-x[1], x[0]))]\n",
    "    return answer"
   ]
  }
 ],
 "metadata": {
  "kernelspec": {
   "display_name": "Python 3",
   "language": "python",
   "name": "python3"
  },
  "language_info": {
   "codemirror_mode": {
    "name": "ipython",
    "version": 3
   },
   "file_extension": ".py",
   "mimetype": "text/x-python",
   "name": "python",
   "nbconvert_exporter": "python",
   "pygments_lexer": "ipython3",
   "version": "3.8.5"
  }
 },
 "nbformat": 4,
 "nbformat_minor": 4
}
