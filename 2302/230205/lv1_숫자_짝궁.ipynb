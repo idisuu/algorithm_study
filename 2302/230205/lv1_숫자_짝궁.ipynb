{
 "cells": [
  {
   "cell_type": "code",
   "execution_count": null,
   "metadata": {},
   "outputs": [],
   "source": [
    "from collections import Counter\n",
    "\n",
    "def solution(X, Y):\n",
    "    x_count = Counter(X)\n",
    "    y_count = Counter(Y)\n",
    "    num_dict = {i:-1 for i in range(10)}\n",
    "    for i in range(10):\n",
    "        num = str(i)\n",
    "        num_x_cnt = x_count.get(num, 0)\n",
    "        num_y_cnt = y_count.get(num, 0)    \n",
    "        if num_x_cnt and num_y_cnt:\n",
    "            num_dict[i] = min(num_x_cnt, num_y_cnt)\n",
    "    answer = ''\n",
    "    for i in range(10):\n",
    "        target_num = 9 - i\n",
    "        num_cnt = num_dict[target_num]\n",
    "        if num_cnt >= 0:\n",
    "            answer += str(target_num) * num_cnt\n",
    "    if not answer:\n",
    "        return str(-1)\n",
    "    if answer[0] == '0':\n",
    "        answer = '0'\n",
    "    return answer"
   ]
  }
 ],
 "metadata": {
  "kernelspec": {
   "display_name": "Python 3",
   "language": "python",
   "name": "python3"
  },
  "language_info": {
   "codemirror_mode": {
    "name": "ipython",
    "version": 3
   },
   "file_extension": ".py",
   "mimetype": "text/x-python",
   "name": "python",
   "nbconvert_exporter": "python",
   "pygments_lexer": "ipython3",
   "version": "3.8.5"
  }
 },
 "nbformat": 4,
 "nbformat_minor": 4
}
