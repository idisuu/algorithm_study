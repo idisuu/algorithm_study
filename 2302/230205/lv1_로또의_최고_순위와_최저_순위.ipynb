{
 "cells": [
  {
   "cell_type": "code",
   "execution_count": null,
   "metadata": {},
   "outputs": [],
   "source": [
    "def solution(lottos, win_nums):\n",
    "    zero_cnt = 0\n",
    "    match_cnt = 0\n",
    "    for num in lottos:\n",
    "        if not num:\n",
    "            zero_cnt +=1\n",
    "            continue            \n",
    "        if num in win_nums:\n",
    "            match_cnt += 1\n",
    "    if match_cnt >= 2:\n",
    "        min_rank = 7 - match_cnt\n",
    "        max_rank = min_rank - zero_cnt\n",
    "    elif match_cnt == 1:\n",
    "        min_rank = 6\n",
    "        max_rank = min_rank - zero_cnt\n",
    "    elif match_cnt == 0:\n",
    "        min_rank = 6\n",
    "        max_rank = min(min_rank - zero_cnt + 1, 6)\n",
    "    return [max_rank, min_rank]"
   ]
  }
 ],
 "metadata": {
  "kernelspec": {
   "display_name": "Python 3",
   "language": "python",
   "name": "python3"
  },
  "language_info": {
   "codemirror_mode": {
    "name": "ipython",
    "version": 3
   },
   "file_extension": ".py",
   "mimetype": "text/x-python",
   "name": "python",
   "nbconvert_exporter": "python",
   "pygments_lexer": "ipython3",
   "version": "3.8.5"
  }
 },
 "nbformat": 4,
 "nbformat_minor": 4
}
