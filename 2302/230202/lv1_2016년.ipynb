{
 "cells": [
  {
   "cell_type": "code",
   "execution_count": null,
   "metadata": {},
   "outputs": [],
   "source": [
    "month_list = [31, 29, 31, 30, 31, 30, 31, 31, 30, 31, 30, 31]\n",
    "days_list = ['SUN','MON','TUE','WED','THU','FRI','SAT']\n",
    "\n",
    "def solution(a, b):\n",
    "    days_passed = sum(month_list[:a-1]) + b\n",
    "    days =days_list[(days_passed + 4) % 7]\n",
    "    return days"
   ]
  }
 ],
 "metadata": {
  "kernelspec": {
   "display_name": "Python 3",
   "language": "python",
   "name": "python3"
  },
  "language_info": {
   "codemirror_mode": {
    "name": "ipython",
    "version": 3
   },
   "file_extension": ".py",
   "mimetype": "text/x-python",
   "name": "python",
   "nbconvert_exporter": "python",
   "pygments_lexer": "ipython3",
   "version": "3.8.5"
  }
 },
 "nbformat": 4,
 "nbformat_minor": 4
}
