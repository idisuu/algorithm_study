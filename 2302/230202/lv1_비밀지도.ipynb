{
 "cells": [
  {
   "cell_type": "code",
   "execution_count": null,
   "metadata": {},
   "outputs": [],
   "source": [
    "def num_to_binary(num, n):\n",
    "    result = ''\n",
    "    for i in range(n):\n",
    "        digit = 2 ** (n-i-1)\n",
    "        if num >= digit:\n",
    "            result += '#'\n",
    "            num -= digit\n",
    "        else:\n",
    "            result += ' '\n",
    "    return result\n",
    "\n",
    "def solution(n, arr1, arr2):\n",
    "    binary_arr1 = [num_to_binary(num, n) for num in arr1]\n",
    "    binary_arr2 = [num_to_binary(num, n) for num in arr2]\n",
    "    answer_list = [[] for _ in range(n)]\n",
    "    for idx, (binary1, binary2)  in enumerate(zip(binary_arr1, binary_arr2)):\n",
    "        for sign1, sign2 in zip(binary1, binary2):\n",
    "            if sign1 == ' ' and sign2 == ' ':\n",
    "                answer_list[idx].append(' ')\n",
    "            else:\n",
    "                answer_list[idx].append('#')\n",
    "    answer = [''.join(i) for i in answer_list]\n",
    "    return answer"
   ]
  }
 ],
 "metadata": {
  "kernelspec": {
   "display_name": "Python 3",
   "language": "python",
   "name": "python3"
  },
  "language_info": {
   "codemirror_mode": {
    "name": "ipython",
    "version": 3
   },
   "file_extension": ".py",
   "mimetype": "text/x-python",
   "name": "python",
   "nbconvert_exporter": "python",
   "pygments_lexer": "ipython3",
   "version": "3.8.5"
  }
 },
 "nbformat": 4,
 "nbformat_minor": 4
}
