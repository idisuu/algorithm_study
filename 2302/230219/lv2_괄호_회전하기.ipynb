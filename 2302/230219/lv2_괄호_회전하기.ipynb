{
 "cells": [
  {
   "cell_type": "code",
   "execution_count": null,
   "metadata": {},
   "outputs": [],
   "source": [
    "from collections import Counter\n",
    "\n",
    "replace_dict = {\n",
    "    '[': 1,\n",
    "    ']': -1,\n",
    "    '(': 10,\n",
    "    ')': -10,\n",
    "    '{':100,\n",
    "    '}': -100,\n",
    "}\n",
    "\n",
    "def check_valid(s):\n",
    "    replaced_s = [replace_dict[ch] for ch in s]\n",
    "    q = []\n",
    "    for num in replaced_s:\n",
    "        counter_q = Counter(q)\n",
    "        if counter_q.get(-1) or counter_q.get(-10) or counter_q.get(-100):\n",
    "            return False\n",
    "        if q and (num + q[-1]) == 0:\n",
    "            q.pop()\n",
    "            continue\n",
    "        q.append(num)\n",
    "    if len(q) == 0:\n",
    "        return True\n",
    "\n",
    "def solution(s):\n",
    "    cnt = 0\n",
    "    for i in range(len(s)):\n",
    "        rotated_s = s[i:] + s[:i]\n",
    "        if check_valid(rotated_s):\n",
    "            cnt += 1\n",
    "    return cnt"
   ]
  }
 ],
 "metadata": {
  "kernelspec": {
   "display_name": "Python 3",
   "language": "python",
   "name": "python3"
  },
  "language_info": {
   "codemirror_mode": {
    "name": "ipython",
    "version": 3
   },
   "file_extension": ".py",
   "mimetype": "text/x-python",
   "name": "python",
   "nbconvert_exporter": "python",
   "pygments_lexer": "ipython3",
   "version": "3.8.5"
  }
 },
 "nbformat": 4,
 "nbformat_minor": 4
}
