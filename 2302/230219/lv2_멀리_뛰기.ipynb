{
 "cells": [
  {
   "cell_type": "code",
   "execution_count": null,
   "metadata": {},
   "outputs": [],
   "source": [
    "arr = [0 for _ in range(2001)]\n",
    "arr[1] = 1\n",
    "arr[2] = 2\n",
    "for i in range(3, 2000 + 1):\n",
    "    arr[i] = arr[i-2] + arr[i-1]\n",
    "\n",
    "def solution(n):\n",
    "    return arr[n] % 1234567"
   ]
  }
 ],
 "metadata": {
  "kernelspec": {
   "display_name": "Python 3",
   "language": "python",
   "name": "python3"
  },
  "language_info": {
   "codemirror_mode": {
    "name": "ipython",
    "version": 3
   },
   "file_extension": ".py",
   "mimetype": "text/x-python",
   "name": "python",
   "nbconvert_exporter": "python",
   "pygments_lexer": "ipython3",
   "version": "3.8.5"
  }
 },
 "nbformat": 4,
 "nbformat_minor": 4
}
