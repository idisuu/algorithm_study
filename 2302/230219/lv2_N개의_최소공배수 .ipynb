{
 "cells": [
  {
   "cell_type": "code",
   "execution_count": 38,
   "metadata": {},
   "outputs": [],
   "source": [
    "def factorize(num):\n",
    "    factorize_dict = {}\n",
    "    factor = 2\n",
    "    while True:\n",
    "        if num % factor == 0:\n",
    "            if not factorize_dict.get(factor):\n",
    "                factorize_dict[factor] = 1\n",
    "            else:\n",
    "                factorize_dict[factor] += 1\n",
    "            num /= factor\n",
    "        else:\n",
    "            factor += 1        \n",
    "        if num == 1:\n",
    "            return factorize_dict\n",
    "\n",
    "\n",
    "def solution(arr):\n",
    "    factorized_arr = [factorize(num) for num in arr]\n",
    "    lcm_dict = {}\n",
    "    for factor_dict in factorized_arr:\n",
    "        for num, cnt in factor_dict.items():\n",
    "            if not lcm_dict.get(num):\n",
    "                lcm_dict[num] = cnt\n",
    "            else:\n",
    "                lcm_dict[num] =  max(lcm_dict[num], cnt)\n",
    "    answer = 1\n",
    "    for num, cnt in lcm_dict.items():\n",
    "        answer *= num**cnt\n",
    "    return answer"
   ]
  }
 ],
 "metadata": {
  "kernelspec": {
   "display_name": "Python 3",
   "language": "python",
   "name": "python3"
  },
  "language_info": {
   "codemirror_mode": {
    "name": "ipython",
    "version": 3
   },
   "file_extension": ".py",
   "mimetype": "text/x-python",
   "name": "python",
   "nbconvert_exporter": "python",
   "pygments_lexer": "ipython3",
   "version": "3.8.5"
  }
 },
 "nbformat": 4,
 "nbformat_minor": 4
}
