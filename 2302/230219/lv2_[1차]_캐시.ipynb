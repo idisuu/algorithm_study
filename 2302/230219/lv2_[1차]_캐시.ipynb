{
 "cells": [
  {
   "cell_type": "code",
   "execution_count": null,
   "metadata": {},
   "outputs": [],
   "source": [
    "cache_hit = 1\n",
    "cache_miss = 5\n",
    "\n",
    "def solution(cacheSize, cities):\n",
    "    if cacheSize == 0:\n",
    "        return len(cities) * 5\n",
    "    time = 0\n",
    "    cacheDict = {}\n",
    "    recently_used = []\n",
    "    for idx, city in enumerate(cities):\n",
    "        idx = idx + 1\n",
    "        city = city.lower()\n",
    "        if cacheDict.get(city):\n",
    "            time += cache_hit\n",
    "            cacheDict[city] = idx\n",
    "        else:\n",
    "            time += cache_miss        \n",
    "            if len(cacheDict) < cacheSize:\n",
    "                cacheDict[city] = idx\n",
    "            else:\n",
    "                LRU = sorted(cacheDict.items(), key=lambda x: x[1])[0][0]\n",
    "                cacheDict.pop(LRU)\n",
    "                cacheDict[city] = idx\n",
    "    return time"
   ]
  }
 ],
 "metadata": {
  "kernelspec": {
   "display_name": "Python 3",
   "language": "python",
   "name": "python3"
  },
  "language_info": {
   "codemirror_mode": {
    "name": "ipython",
    "version": 3
   },
   "file_extension": ".py",
   "mimetype": "text/x-python",
   "name": "python",
   "nbconvert_exporter": "python",
   "pygments_lexer": "ipython3",
   "version": "3.8.5"
  }
 },
 "nbformat": 4,
 "nbformat_minor": 4
}
