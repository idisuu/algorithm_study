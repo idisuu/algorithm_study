{
 "cells": [
  {
   "cell_type": "code",
   "execution_count": null,
   "metadata": {},
   "outputs": [],
   "source": [
    "import re\n",
    "\n",
    "def solution(str1, str2):\n",
    "    regex = re.compile('[^a-zA-Z]')\n",
    "\n",
    "    str1_dict = {}\n",
    "    for i in range(len(str1)-1):\n",
    "        arr =str1[i:i+2].lower()\n",
    "        if regex.search(arr):\n",
    "            continue\n",
    "        if str1_dict.get(arr):\n",
    "            str1_dict[arr] += 1\n",
    "        else:\n",
    "            str1_dict[arr] = 1\n",
    "\n",
    "    str2_dict = {}\n",
    "    for i in range(len(str2)-1):\n",
    "        arr =str2[i:i+2].lower()\n",
    "        if regex.search(arr):\n",
    "            continue\n",
    "        if str2_dict.get(arr):\n",
    "            str2_dict[arr] += 1\n",
    "        else:\n",
    "            str2_dict[arr] = 1\n",
    "\n",
    "    subset_cnt = 0\n",
    "    union_cnt = 0\n",
    "    unique_key_list = list(set(list(str1_dict.keys()) + list(str2_dict.keys())))\n",
    "    for key in unique_key_list:\n",
    "        str1_cnt =  str1_dict.get(key, 0)\n",
    "        str2_cnt = str2_dict.get(key, 0)\n",
    "        if str1_cnt and str2_cnt:\n",
    "            union_cnt += max(str1_cnt, str2_cnt)\n",
    "            subset_cnt +=  min(str1_cnt, str2_cnt)\n",
    "        else:\n",
    "            union_cnt += (str1_cnt + str2_cnt)\n",
    "    if not union_cnt:\n",
    "        return 65536\n",
    "    return int((subset_cnt / union_cnt) * 65536)"
   ]
  }
 ],
 "metadata": {
  "kernelspec": {
   "display_name": "Python 3",
   "language": "python",
   "name": "python3"
  },
  "language_info": {
   "codemirror_mode": {
    "name": "ipython",
    "version": 3
   },
   "file_extension": ".py",
   "mimetype": "text/x-python",
   "name": "python",
   "nbconvert_exporter": "python",
   "pygments_lexer": "ipython3",
   "version": "3.8.5"
  }
 },
 "nbformat": 4,
 "nbformat_minor": 4
}
