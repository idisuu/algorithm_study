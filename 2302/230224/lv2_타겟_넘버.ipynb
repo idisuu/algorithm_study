{
 "cells": [
  {
   "cell_type": "code",
   "execution_count": null,
   "metadata": {},
   "outputs": [],
   "source": [
    "def solution(numbers, target):\n",
    "    global answer \n",
    "    answer = 0\n",
    "    def dfs(index, cnt, numbers, target):\n",
    "        global answer\n",
    "        if index == len(numbers):\n",
    "            if cnt == target:\n",
    "                answer += 1\n",
    "            return    \n",
    "        dfs(index+1, cnt - numbers[index], numbers, target)\n",
    "        dfs(index+1, cnt + numbers[index], numbers, target)\n",
    "    \n",
    "    dfs(0, 0, numbers, target)\n",
    "    return answer"
   ]
  }
 ],
 "metadata": {
  "kernelspec": {
   "display_name": "Python 3",
   "language": "python",
   "name": "python3"
  },
  "language_info": {
   "codemirror_mode": {
    "name": "ipython",
    "version": 3
   },
   "file_extension": ".py",
   "mimetype": "text/x-python",
   "name": "python",
   "nbconvert_exporter": "python",
   "pygments_lexer": "ipython3",
   "version": "3.8.5"
  }
 },
 "nbformat": 4,
 "nbformat_minor": 4
}
