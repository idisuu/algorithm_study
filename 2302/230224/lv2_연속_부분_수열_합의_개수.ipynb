{
 "cells": [
  {
   "cell_type": "code",
   "execution_count": null,
   "metadata": {},
   "outputs": [],
   "source": [
    "def solution(elements):\n",
    "    total_elements = elements *2\n",
    "    sum_sets = set()\n",
    "    for i in range(1, len(elements)+1):\n",
    "        for j in range(len(total_elements) - i + 1):\n",
    "            sum_value = sum(total_elements[j:j+i])\n",
    "            sum_sets.add(sum_value)\n",
    "    return len(sum_sets)"
   ]
  }
 ],
 "metadata": {
  "kernelspec": {
   "display_name": "Python 3",
   "language": "python",
   "name": "python3"
  },
  "language_info": {
   "codemirror_mode": {
    "name": "ipython",
    "version": 3
   },
   "file_extension": ".py",
   "mimetype": "text/x-python",
   "name": "python",
   "nbconvert_exporter": "python",
   "pygments_lexer": "ipython3",
   "version": "3.8.5"
  }
 },
 "nbformat": 4,
 "nbformat_minor": 4
}
