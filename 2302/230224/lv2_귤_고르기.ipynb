{
 "cells": [
  {
   "cell_type": "code",
   "execution_count": null,
   "metadata": {},
   "outputs": [],
   "source": [
    "from collections import Counter\n",
    "\n",
    "def solution(k, tangerine):\n",
    "    counter = Counter(tangerine)\n",
    "    cnt = 0\n",
    "    answer = 0\n",
    "    for _, v in sorted(counter.items(), key=lambda x: - x[1]):\n",
    "        cnt += v\n",
    "        answer += 1\n",
    "        if cnt >= k:\n",
    "            break\n",
    "    return answer"
   ]
  }
 ],
 "metadata": {
  "kernelspec": {
   "display_name": "Python 3",
   "language": "python",
   "name": "python3"
  },
  "language_info": {
   "codemirror_mode": {
    "name": "ipython",
    "version": 3
   },
   "file_extension": ".py",
   "mimetype": "text/x-python",
   "name": "python",
   "nbconvert_exporter": "python",
   "pygments_lexer": "ipython3",
   "version": "3.8.5"
  }
 },
 "nbformat": 4,
 "nbformat_minor": 4
}
