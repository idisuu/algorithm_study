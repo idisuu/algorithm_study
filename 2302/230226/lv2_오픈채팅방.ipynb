{
 "cells": [
  {
   "cell_type": "code",
   "execution_count": null,
   "metadata": {},
   "outputs": [],
   "source": [
    "def solution(records):\n",
    "    result = []\n",
    "    id_to_nickname_dict = {}\n",
    "    for record in records:\n",
    "        content = record.split()\n",
    "        order = content[0]\n",
    "        user_id = content[1]\n",
    "        if len(content) == 3:\n",
    "            nickname = content[2]\n",
    "\n",
    "        if order == 'Enter':\n",
    "            id_to_nickname_dict[user_id] = nickname\n",
    "            result.append([user_id, \"님이 들어왔습니다.\"])\n",
    "        elif order == 'Change':\n",
    "            id_to_nickname_dict[user_id] = nickname\n",
    "        elif order == 'Leave' :\n",
    "            result.append([user_id, \"님이 나갔습니다.\"])\n",
    "\n",
    "    answer = []\n",
    "    for user_id, message in result:\n",
    "        answer.append(id_to_nickname_dict[user_id] + message)\n",
    "    return answer"
   ]
  }
 ],
 "metadata": {
  "kernelspec": {
   "display_name": "Python 3",
   "language": "python",
   "name": "python3"
  },
  "language_info": {
   "codemirror_mode": {
    "name": "ipython",
    "version": 3
   },
   "file_extension": ".py",
   "mimetype": "text/x-python",
   "name": "python",
   "nbconvert_exporter": "python",
   "pygments_lexer": "ipython3",
   "version": "3.8.5"
  }
 },
 "nbformat": 4,
 "nbformat_minor": 4
}
