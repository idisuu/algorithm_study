{
 "cells": [
  {
   "cell_type": "code",
   "execution_count": null,
   "metadata": {},
   "outputs": [],
   "source": [
    "def solution(skill, skill_trees):\n",
    "    skill_dict = {ch: index for ch, index in zip(skill, range(1, len(skill)+1))}\n",
    "    cnt = 0\n",
    "    for skill_tree in skill_trees:\n",
    "        claimed_skill_tree_order = \"\"\n",
    "        max_skill_index = 0\n",
    "        for idx, ch in enumerate(skill_tree):\n",
    "            skill_index = skill_dict.get(ch)\n",
    "            if skill_index:\n",
    "                claimed_skill_tree_order += ch\n",
    "                max_skill_index = max(max_skill_index, skill_index)\n",
    "        true_skill_tree_order = skill[:max_skill_index]\n",
    "        if claimed_skill_tree_order == true_skill_tree_order:\n",
    "            cnt += 1\n",
    "    return cnt"
   ]
  }
 ],
 "metadata": {
  "kernelspec": {
   "display_name": "Python 3",
   "language": "python",
   "name": "python3"
  },
  "language_info": {
   "codemirror_mode": {
    "name": "ipython",
    "version": 3
   },
   "file_extension": ".py",
   "mimetype": "text/x-python",
   "name": "python",
   "nbconvert_exporter": "python",
   "pygments_lexer": "ipython3",
   "version": "3.8.5"
  }
 },
 "nbformat": 4,
 "nbformat_minor": 4
}
