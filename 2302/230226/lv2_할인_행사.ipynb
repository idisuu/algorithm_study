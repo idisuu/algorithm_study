{
 "cells": [
  {
   "cell_type": "code",
   "execution_count": null,
   "metadata": {},
   "outputs": [],
   "source": [
    "from collections import Counter\n",
    "\n",
    "def solution(want, number, discount):\n",
    "    want_dict = {item:num for item, num in zip(want, number)}\n",
    "\n",
    "    cnt = 0\n",
    "    for i in range(len(discount) - 10 + 1):\n",
    "        temp_discount = discount[i:i+10]\n",
    "        temp_discount_dict = Counter(temp_discount)\n",
    "        flag = True\n",
    "        for key, value in want_dict.items():\n",
    "            discount_value = temp_discount_dict.get(key, 0)\n",
    "            if not value <= discount_value:\n",
    "                flag = False\n",
    "                break    \n",
    "        if flag:\n",
    "            cnt += 1\n",
    "    return cnt"
   ]
  }
 ],
 "metadata": {
  "kernelspec": {
   "display_name": "Python 3",
   "language": "python",
   "name": "python3"
  },
  "language_info": {
   "codemirror_mode": {
    "name": "ipython",
    "version": 3
   },
   "file_extension": ".py",
   "mimetype": "text/x-python",
   "name": "python",
   "nbconvert_exporter": "python",
   "pygments_lexer": "ipython3",
   "version": "3.8.5"
  }
 },
 "nbformat": 4,
 "nbformat_minor": 4
}
