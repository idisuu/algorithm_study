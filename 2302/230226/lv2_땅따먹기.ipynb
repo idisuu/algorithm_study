{
 "cells": [
  {
   "cell_type": "code",
   "execution_count": null,
   "metadata": {},
   "outputs": [],
   "source": [
    "def solution(land):\n",
    "    for idx, score in enumerate(land):\n",
    "        if idx == 0:\n",
    "            continue\n",
    "        previous_score = land[idx-1]\n",
    "        score[0] += max(previous_score[1], previous_score[2], previous_score[3])\n",
    "        score[1] += max(previous_score[0], previous_score[2], previous_score[3])\n",
    "        score[2] += max(previous_score[0], previous_score[1], previous_score[3])\n",
    "        score[3] += max(previous_score[0], previous_score[1], previous_score[2])\n",
    "    return max(land[-1])"
   ]
  }
 ],
 "metadata": {
  "kernelspec": {
   "display_name": "Python 3",
   "language": "python",
   "name": "python3"
  },
  "language_info": {
   "codemirror_mode": {
    "name": "ipython",
    "version": 3
   },
   "file_extension": ".py",
   "mimetype": "text/x-python",
   "name": "python",
   "nbconvert_exporter": "python",
   "pygments_lexer": "ipython3",
   "version": "3.8.5"
  }
 },
 "nbformat": 4,
 "nbformat_minor": 4
}
