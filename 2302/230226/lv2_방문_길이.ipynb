{
 "cells": [
  {
   "cell_type": "code",
   "execution_count": null,
   "metadata": {},
   "outputs": [],
   "source": [
    "def solution(dirs):\n",
    "    path_sets = set()\n",
    "    horizontal_axis = 0\n",
    "    vertical_axis = 0\n",
    "\n",
    "    for order in dirs:\n",
    "        if order == 'U':\n",
    "            vertical_move_point = vertical_axis + 1\n",
    "            if vertical_move_point < -5 or 5 < vertical_move_point:\n",
    "                continue\n",
    "            path_sets.add(str([[horizontal_axis, horizontal_axis], sorted([vertical_axis, vertical_move_point])]))\n",
    "            vertical_axis = vertical_move_point\n",
    "        elif order == 'D':\n",
    "            vertical_move_point = vertical_axis - 1\n",
    "            if vertical_move_point < -5 or 5 < vertical_move_point:\n",
    "                continue\n",
    "            path_sets.add(str([[horizontal_axis, horizontal_axis], sorted([vertical_axis, vertical_move_point])]))\n",
    "            vertical_axis = vertical_move_point\n",
    "        elif order == 'L':\n",
    "            horizontal_move_point = horizontal_axis - 1\n",
    "            if horizontal_move_point < -5 or 5 < horizontal_move_point:\n",
    "                continue\n",
    "            path_sets.add(str([sorted([horizontal_axis, horizontal_move_point]), [vertical_axis, vertical_axis]]))\n",
    "            horizontal_axis = horizontal_move_point\n",
    "        elif order == 'R':\n",
    "            horizontal_move_point = horizontal_axis + 1\n",
    "            if horizontal_move_point < -5 or 5 < horizontal_move_point:\n",
    "                continue\n",
    "            path_sets.add(str([sorted([horizontal_axis, horizontal_move_point]), [vertical_axis, vertical_axis]]))\n",
    "            horizontal_axis = horizontal_move_point\n",
    "\n",
    "    return len(path_sets)"
   ]
  }
 ],
 "metadata": {
  "kernelspec": {
   "display_name": "Python 3",
   "language": "python",
   "name": "python3"
  },
  "language_info": {
   "codemirror_mode": {
    "name": "ipython",
    "version": 3
   },
   "file_extension": ".py",
   "mimetype": "text/x-python",
   "name": "python",
   "nbconvert_exporter": "python",
   "pygments_lexer": "ipython3",
   "version": "3.8.5"
  }
 },
 "nbformat": 4,
 "nbformat_minor": 4
}
