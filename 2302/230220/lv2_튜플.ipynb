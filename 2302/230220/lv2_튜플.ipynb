{
 "cells": [
  {
   "cell_type": "code",
   "execution_count": null,
   "metadata": {},
   "outputs": [],
   "source": [
    "import re\n",
    "\n",
    "regex = re.compile('{([0-9,]*?)}')\n",
    "def solution(s):\n",
    "    answer = []\n",
    "    number_list = sorted([list(map(int, num.split(','))) for num in regex.findall(s)], key=lambda x: len(x))\n",
    "    factor_dict = {num: False for num in number_list[-1]}\n",
    "    for lst in number_list:\n",
    "        for num in lst:\n",
    "            if not factor_dict.get(num):\n",
    "                answer.append(num)\n",
    "                factor_dict[num] = True\n",
    "    return answer"
   ]
  }
 ],
 "metadata": {
  "kernelspec": {
   "display_name": "Python 3",
   "language": "python",
   "name": "python3"
  },
  "language_info": {
   "codemirror_mode": {
    "name": "ipython",
    "version": 3
   },
   "file_extension": ".py",
   "mimetype": "text/x-python",
   "name": "python",
   "nbconvert_exporter": "python",
   "pygments_lexer": "ipython3",
   "version": "3.8.5"
  }
 },
 "nbformat": 4,
 "nbformat_minor": 4
}
