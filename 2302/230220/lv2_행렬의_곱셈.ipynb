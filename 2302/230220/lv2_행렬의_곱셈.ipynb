{
 "cells": [
  {
   "cell_type": "code",
   "execution_count": null,
   "metadata": {},
   "outputs": [],
   "source": [
    "def solution(arr1, arr2):\n",
    "    new_arr2 = [[] for _ in range(len(arr2[0]))]\n",
    "    for row in arr2:\n",
    "        for idx, num in enumerate(row):\n",
    "            new_arr2[idx].append(num)\n",
    "            \n",
    "    answer = [[] for _ in range(len(arr1))]\n",
    "    for idx, row in enumerate(arr1):\n",
    "        for col in new_arr2:\n",
    "            value = 0\n",
    "            for a, b in zip(row, col):\n",
    "                value += (a * b)\n",
    "            answer[idx].append(value)\n",
    "    return answer"
   ]
  }
 ],
 "metadata": {
  "kernelspec": {
   "display_name": "Python 3",
   "language": "python",
   "name": "python3"
  },
  "language_info": {
   "codemirror_mode": {
    "name": "ipython",
    "version": 3
   },
   "file_extension": ".py",
   "mimetype": "text/x-python",
   "name": "python",
   "nbconvert_exporter": "python",
   "pygments_lexer": "ipython3",
   "version": "3.8.5"
  }
 },
 "nbformat": 4,
 "nbformat_minor": 4
}
