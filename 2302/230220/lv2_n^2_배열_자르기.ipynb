{
 "cells": [
  {
   "cell_type": "code",
   "execution_count": null,
   "metadata": {},
   "outputs": [],
   "source": [
    "def solution(n, left, right):\n",
    "    start_arr = left // n + 1\n",
    "    end_arr = right // n + 1\n",
    "    total_arr = []\n",
    "    for i in range(start_arr, end_arr + 1):\n",
    "        arr = [i for _ in range(i - 1)] + [num for num in range(i, n + 1)]\n",
    "        total_arr += arr\n",
    "    index_passed = n*(start_arr-1)\n",
    "    start_index = left - index_passed\n",
    "    end_index = right - index_passed\n",
    "    return total_arr[start_index:end_index+1]"
   ]
  }
 ],
 "metadata": {
  "kernelspec": {
   "display_name": "Python 3",
   "language": "python",
   "name": "python3"
  },
  "language_info": {
   "codemirror_mode": {
    "name": "ipython",
    "version": 3
   },
   "file_extension": ".py",
   "mimetype": "text/x-python",
   "name": "python",
   "nbconvert_exporter": "python",
   "pygments_lexer": "ipython3",
   "version": "3.8.5"
  }
 },
 "nbformat": 4,
 "nbformat_minor": 4
}
