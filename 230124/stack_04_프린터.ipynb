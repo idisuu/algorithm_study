{
 "cells": [
  {
   "cell_type": "code",
   "execution_count": null,
   "metadata": {},
   "outputs": [],
   "source": [
    "from collections import deque\n",
    "\n",
    "def solution(priorities, location):\n",
    "    prioritiesWithIndex = [(p, index) for p, index in zip(priorities, range(len(priorities)))]\n",
    "    q = deque(prioritiesWithIndex)\n",
    "    cnt = 0\n",
    "    while q:\n",
    "        out = q.popleft()\n",
    "        temp_priority = out[0]\n",
    "        if not q:\n",
    "            return cnt + 1\n",
    "        if temp_priority >= max(q)[0]:        \n",
    "            cnt +=1\n",
    "            if out[1] == location:\n",
    "                return cnt\n",
    "            continue\n",
    "        q.append(out)"
   ]
  },
  {
   "cell_type": "code",
   "execution_count": null,
   "metadata": {},
   "outputs": [],
   "source": []
  },
  {
   "cell_type": "code",
   "execution_count": null,
   "metadata": {},
   "outputs": [],
   "source": []
  }
 ],
 "metadata": {
  "kernelspec": {
   "display_name": "Python 3",
   "language": "python",
   "name": "python3"
  },
  "language_info": {
   "codemirror_mode": {
    "name": "ipython",
    "version": 3
   },
   "file_extension": ".py",
   "mimetype": "text/x-python",
   "name": "python",
   "nbconvert_exporter": "python",
   "pygments_lexer": "ipython3",
   "version": "3.8.5"
  }
 },
 "nbformat": 4,
 "nbformat_minor": 4
}
