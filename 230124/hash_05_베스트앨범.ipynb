{
 "cells": [
  {
   "cell_type": "code",
   "execution_count": null,
   "metadata": {},
   "outputs": [],
   "source": [
    "def solution(genres, plays):\n",
    "    genre_counter_dict = {i:0 for i in set(genres)}\n",
    "    genre_index_dict = {i:[] for i in set(genres)}\n",
    "    for idx, (genre, play) in enumerate(zip(genres, plays)):\n",
    "        genre_counter_dict[genre] += play\n",
    "        genre_index_dict[genre].append((idx, play))\n",
    "    answer = []\n",
    "    for genre, _ in sorted(genre_counter_dict.items(), key=lambda x: -x[1]):\n",
    "        temp_genre_index = sorted(genre_index_dict[genre], key=lambda x: -x[1])\n",
    "        for idx, (index, _) in enumerate(temp_genre_index):\n",
    "            answer.append(index)\n",
    "            if idx == 1:\n",
    "                break\n",
    "    return answer"
   ]
  }
 ],
 "metadata": {
  "kernelspec": {
   "display_name": "Python 3",
   "language": "python",
   "name": "python3"
  },
  "language_info": {
   "codemirror_mode": {
    "name": "ipython",
    "version": 3
   },
   "file_extension": ".py",
   "mimetype": "text/x-python",
   "name": "python",
   "nbconvert_exporter": "python",
   "pygments_lexer": "ipython3",
   "version": "3.8.5"
  }
 },
 "nbformat": 4,
 "nbformat_minor": 4
}
