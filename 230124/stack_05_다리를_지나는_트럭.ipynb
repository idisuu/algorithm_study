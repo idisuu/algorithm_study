{
 "cells": [
  {
   "cell_type": "code",
   "execution_count": null,
   "metadata": {},
   "outputs": [],
   "source": [
    "def solution(bridge_length, weight, truck_weights):\n",
    "    on_bridge_queue = []\n",
    "    finished_truck = []\n",
    "    time = 0\n",
    "    num_truck = len(truck_weights)\n",
    "    while True:\n",
    "        # 시간 경과한 트럭 빼기\n",
    "        while on_bridge_queue and (on_bridge_queue[0][1] == bridge_length):        \n",
    "            finished_truck.append(on_bridge_queue.pop(0)[0])\n",
    "        # 다리에 트럭 올리기\n",
    "        if truck_weights:\n",
    "            weight_added = truck_weights[0]\n",
    "            if not on_bridge_queue:\n",
    "                on_bridge_queue.append([weight_added,0])\n",
    "                truck_weights.pop(0)\n",
    "            elif on_bridge_queue and (sum([weight for weight, time in on_bridge_queue]) + weight_added <= weight):            \n",
    "                on_bridge_queue.append([weight_added, 0])\n",
    "                truck_weights.pop(0)\n",
    "\n",
    "        # 시간 계산\n",
    "        on_bridge_queue = [[weight, time+1] for weight, time in  on_bridge_queue]\n",
    "\n",
    "        time += 1\n",
    "\n",
    "        if num_truck == len(finished_truck):\n",
    "            return time"
   ]
  }
 ],
 "metadata": {
  "kernelspec": {
   "display_name": "Python 3",
   "language": "python",
   "name": "python3"
  },
  "language_info": {
   "codemirror_mode": {
    "name": "ipython",
    "version": 3
   },
   "file_extension": ".py",
   "mimetype": "text/x-python",
   "name": "python",
   "nbconvert_exporter": "python",
   "pygments_lexer": "ipython3",
   "version": "3.8.5"
  }
 },
 "nbformat": 4,
 "nbformat_minor": 4
}
