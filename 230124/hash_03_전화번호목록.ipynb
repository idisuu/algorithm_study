{
 "cells": [
  {
   "cell_type": "code",
   "execution_count": null,
   "metadata": {},
   "outputs": [],
   "source": [
    "def solution(phone_book):\n",
    "    phone_book_dict = {i:[] for i in range(1, 21)}\n",
    "    for phone in phone_book:\n",
    "        phone_book_dict[len(phone)].append(phone)\n",
    "    for i in range(1, 21):\n",
    "        temp_phone_book_list = phone_book_dict[i]\n",
    "        if not temp_phone_book_list:\n",
    "            continue\n",
    "        temp_phone_book_dict = {i: 1 for i in temp_phone_book_list}\n",
    "        for phone in phone_book:\n",
    "            if len(phone) <= i:\n",
    "                continue\n",
    "            temp_word = phone[0:0+i]\n",
    "            if temp_phone_book_dict.get(temp_word):\n",
    "                return False\n",
    "    return True"
   ]
  },
  {
   "cell_type": "code",
   "execution_count": null,
   "metadata": {},
   "outputs": [],
   "source": []
  },
  {
   "cell_type": "code",
   "execution_count": null,
   "metadata": {},
   "outputs": [],
   "source": []
  },
  {
   "cell_type": "code",
   "execution_count": null,
   "metadata": {},
   "outputs": [],
   "source": []
  },
  {
   "cell_type": "code",
   "execution_count": null,
   "metadata": {},
   "outputs": [],
   "source": []
  }
 ],
 "metadata": {
  "kernelspec": {
   "display_name": "Python 3",
   "language": "python",
   "name": "python3"
  },
  "language_info": {
   "codemirror_mode": {
    "name": "ipython",
    "version": 3
   },
   "file_extension": ".py",
   "mimetype": "text/x-python",
   "name": "python",
   "nbconvert_exporter": "python",
   "pygments_lexer": "ipython3",
   "version": "3.8.5"
  }
 },
 "nbformat": 4,
 "nbformat_minor": 4
}
