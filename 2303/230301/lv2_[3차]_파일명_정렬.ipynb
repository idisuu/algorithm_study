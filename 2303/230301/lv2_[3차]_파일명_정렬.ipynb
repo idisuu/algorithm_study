{
 "cells": [
  {
   "cell_type": "code",
   "execution_count": null,
   "metadata": {},
   "outputs": [],
   "source": [
    "def parse_file(file):\n",
    "    head = ''\n",
    "    number = ''\n",
    "    tail = ''\n",
    "    \n",
    "    is_head = True\n",
    "    is_number = False\n",
    "    is_tail = False    \n",
    "    for ch in file:\n",
    "        if ch.isdigit() and is_head == True:\n",
    "            is_head = False\n",
    "            is_number = True\n",
    "            \n",
    "        if not ch.isdigit() and is_number == True:\n",
    "            is_number = False\n",
    "            is_tail = True\n",
    "        \n",
    "        if is_head:\n",
    "            head += ch.lower()\n",
    "        if is_number:\n",
    "            number += ch\n",
    "        if is_tail:\n",
    "            tail += ch.lower()     \n",
    "        \n",
    "    return [head, int(number), tail]\n",
    "\n",
    "\n",
    "def solution(files):\n",
    "    file_to_parsed_dict = {}\n",
    "    for file in files:\n",
    "        file_to_parsed_dict[file] = parse_file(file)\n",
    "\n",
    "    sorted_items = sorted(file_to_parsed_dict.items(), key=lambda x: (x[1][0], x[1][1]))\n",
    "    sorted_files = [file for file, _ in sorted_items]\n",
    "    return sorted_files"
   ]
  }
 ],
 "metadata": {
  "kernelspec": {
   "display_name": "Python 3",
   "language": "python",
   "name": "python3"
  },
  "language_info": {
   "codemirror_mode": {
    "name": "ipython",
    "version": 3
   },
   "file_extension": ".py",
   "mimetype": "text/x-python",
   "name": "python",
   "nbconvert_exporter": "python",
   "pygments_lexer": "ipython3",
   "version": "3.8.5"
  }
 },
 "nbformat": 4,
 "nbformat_minor": 4
}
