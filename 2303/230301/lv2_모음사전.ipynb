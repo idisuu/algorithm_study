{
 "cells": [
  {
   "cell_type": "code",
   "execution_count": null,
   "metadata": {},
   "outputs": [],
   "source": [
    "word_to_index_dict = {}\n",
    "cnt = 0\n",
    "word_list = ['A', 'E', 'I', 'O', 'U']\n",
    "\n",
    "def dfs(word):\n",
    "    global word_to_index_dict, cnt, word_list\n",
    "    if len(word) >= 6:\n",
    "        return \n",
    "    if not word_to_index_dict.get(word):\n",
    "        word_to_index_dict[word] = cnt\n",
    "        cnt += 1\n",
    "    for additional_word in word_list:\n",
    "        dfs(word + additional_word)  \n",
    "        \n",
    "def solution(word):                \n",
    "    dfs('')\n",
    "    return word_to_index_dict[word]"
   ]
  }
 ],
 "metadata": {
  "kernelspec": {
   "display_name": "Python 3",
   "language": "python",
   "name": "python3"
  },
  "language_info": {
   "codemirror_mode": {
    "name": "ipython",
    "version": 3
   },
   "file_extension": ".py",
   "mimetype": "text/x-python",
   "name": "python",
   "nbconvert_exporter": "python",
   "pygments_lexer": "ipython3",
   "version": "3.8.5"
  }
 },
 "nbformat": 4,
 "nbformat_minor": 4
}
