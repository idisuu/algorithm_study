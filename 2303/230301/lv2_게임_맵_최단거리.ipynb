{
 "cells": [
  {
   "cell_type": "code",
   "execution_count": null,
   "metadata": {},
   "outputs": [],
   "source": [
    "import sys\n",
    "from collections import deque\n",
    "\n",
    "def solution(maps):\n",
    "    q = deque([])\n",
    "    q.append([0, 0, 1])\n",
    "    max_index = sys.maxsize\n",
    "    visited_index = [[max_index for _ in range(len(maps[0]))] for _ in range(len(maps))]\n",
    "    visited_index[0][0] = 1\n",
    "    direction_x = [0, 0, -1, 1]\n",
    "    direction_y = [-1, 1, 0, 0]\n",
    "\n",
    "    while q:\n",
    "        x, y, move_cnt = q.popleft()\n",
    "        for i in range(4):\n",
    "            nx = x + direction_x[i]\n",
    "            ny = y + direction_y[i]\n",
    "\n",
    "            if 0 <= nx < len(maps) and 0 <= ny < len(maps[0]) and maps[nx][ny] != 0 and (move_cnt + 1 < visited_index[nx][ny]):\n",
    "                q.append([nx, ny, move_cnt+1])\n",
    "                visited_index[nx][ny] = move_cnt+1\n",
    "    if visited_index[-1][-1] == max_index:\n",
    "        return -1\n",
    "    return visited_index[-1][-1]"
   ]
  }
 ],
 "metadata": {
  "kernelspec": {
   "display_name": "Python 3",
   "language": "python",
   "name": "python3"
  },
  "language_info": {
   "codemirror_mode": {
    "name": "ipython",
    "version": 3
   },
   "file_extension": ".py",
   "mimetype": "text/x-python",
   "name": "python",
   "nbconvert_exporter": "python",
   "pygments_lexer": "ipython3",
   "version": "3.8.5"
  }
 },
 "nbformat": 4,
 "nbformat_minor": 4
}
