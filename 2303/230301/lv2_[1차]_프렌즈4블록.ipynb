{
 "cells": [
  {
   "cell_type": "code",
   "execution_count": null,
   "metadata": {},
   "outputs": [],
   "source": [
    "import copy \n",
    "\n",
    "def find_remove_index(board, blank='0'):\n",
    "    remove_set =set()\n",
    "    for i in range(len(board)-1):\n",
    "        for j in range(len(board[0])-1):\n",
    "            loc_1_1 = board[i][j]\n",
    "            loc_1_2 = board[i][j+1]\n",
    "            loc_2_1 = board[i+1][j]\n",
    "            loc_2_2 = board[i+1][j+1]\n",
    "\n",
    "            chr_set = {loc_1_1, loc_1_2, loc_2_1, loc_2_2}\n",
    "            unique_chr = len(chr_set)\n",
    "            if unique_chr == 1 and chr_set != {blank}:\n",
    "                remove_set.add((i, j))\n",
    "                remove_set.add((i, j+1))\n",
    "                remove_set.add((i+1, j))\n",
    "                remove_set.add((i+1, j+1))   \n",
    "    return remove_set\n",
    "\n",
    "def is_blank(ch, blank='0'):\n",
    "    if ch == blank:\n",
    "        return False\n",
    "    return True\n",
    "\n",
    "def sort_list(target_list):\n",
    "    sorted_tuple = sorted([(ch, is_blank(ch),index) for ch, index in zip(target_list, range(len(target_list)))], key=lambda x: (x[1], x[2]))\n",
    "    return [ch for ch, _, _ in sorted_tuple]\n",
    "\n",
    "\n",
    "def solution(m, n, board):\n",
    "    board_transposed = [[] for _ in range(n)]\n",
    "    for i in range(m):\n",
    "        for j in range(n):\n",
    "            board_transposed[j].append(board[i][j])\n",
    "\n",
    "    blank = '0'\n",
    "    total_cnt = 0\n",
    "    while True:\n",
    "        remove_index = find_remove_index(board_transposed)\n",
    "\n",
    "        remove_cnt = len(remove_index)\n",
    "        if not remove_cnt:\n",
    "            break\n",
    "        total_cnt += len(remove_index)\n",
    "        new_board = copy.deepcopy(board_transposed)\n",
    "        for row_idx, col_idx in list(remove_index):\n",
    "            new_board[row_idx][col_idx] = blank\n",
    "\n",
    "        sorted_new_board = []\n",
    "        for row in new_board:\n",
    "            sorted_new_board.append(sort_list(row))\n",
    "\n",
    "        board_transposed = sorted_new_board\n",
    "\n",
    "    return total_cnt"
   ]
  }
 ],
 "metadata": {
  "kernelspec": {
   "display_name": "Python 3",
   "language": "python",
   "name": "python3"
  },
  "language_info": {
   "codemirror_mode": {
    "name": "ipython",
    "version": 3
   },
   "file_extension": ".py",
   "mimetype": "text/x-python",
   "name": "python",
   "nbconvert_exporter": "python",
   "pygments_lexer": "ipython3",
   "version": "3.8.5"
  }
 },
 "nbformat": 4,
 "nbformat_minor": 4
}
