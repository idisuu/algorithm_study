{
 "cells": [
  {
   "cell_type": "code",
   "execution_count": null,
   "metadata": {},
   "outputs": [],
   "source": [
    "def solution(numbers):\n",
    "    str_numbers = [str(num) for num in numbers]\n",
    "    number_with_sort_index = [(str_num, str_num + str_num[-1] * (6 - len(str_num))) for str_num in str_numbers]\n",
    "    sorted_str_numbers = [value for value, sort_index in sorted(number_with_sort_index, key=lambda x: -int(x[1]))]\n",
    "    idx = 0\n",
    "    while True:\n",
    "        num1 = int(str(sorted_str_numbers[idx]) + str(sorted_str_numbers[idx+1]))\n",
    "        num2 = int(str(sorted_str_numbers[idx+1]) + str(sorted_str_numbers[idx]))\n",
    "        if num1 >= num2:\n",
    "            idx += 1\n",
    "        else:\n",
    "            sorted_str_numbers[idx], sorted_str_numbers[idx+1] = sorted_str_numbers[idx+1], sorted_str_numbers[idx]        \n",
    "            if idx >= 1:\n",
    "                idx -= 1\n",
    "        if idx == len(sorted_str_numbers)-1:\n",
    "            break    \n",
    "    return str(int(''.join(sorted_str_numbers)))"
   ]
  }
 ],
 "metadata": {
  "kernelspec": {
   "display_name": "Python 3",
   "language": "python",
   "name": "python3"
  },
  "language_info": {
   "codemirror_mode": {
    "name": "ipython",
    "version": 3
   },
   "file_extension": ".py",
   "mimetype": "text/x-python",
   "name": "python",
   "nbconvert_exporter": "python",
   "pygments_lexer": "ipython3",
   "version": "3.8.5"
  }
 },
 "nbformat": 4,
 "nbformat_minor": 4
}
