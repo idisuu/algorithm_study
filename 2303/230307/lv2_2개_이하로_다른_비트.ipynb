{
 "cells": [
  {
   "cell_type": "code",
   "execution_count": null,
   "metadata": {},
   "outputs": [],
   "source": [
    "def find_new_num(num, zfill_length):\n",
    "    target_binary = bin(num)[2:].zfill(zfill_length)\n",
    "    arr = list(target_binary)\n",
    "    flag_1 = False\n",
    "    for idx, num in enumerate(arr[::-1]):\n",
    "        if not flag_1 and num == '1':\n",
    "            flag_1 = True\n",
    "        if not flag_1 and num == '0':\n",
    "            arr[-idx-1] = '1'\n",
    "            break\n",
    "        if flag_1 and num == '0':\n",
    "            arr[-idx-1] = '1'\n",
    "            arr[-idx] = '0'\n",
    "            break\n",
    "    new_binary = ''.join(arr)\n",
    "    new_num = 0\n",
    "    for idx, string in enumerate(str(int(new_binary))[::-1]):\n",
    "        if string != '0':\n",
    "            new_num += (2**idx)\n",
    "    return new_num\n",
    "        \n",
    "\n",
    "def solution(numbers):\n",
    "    max_number = 10**15\n",
    "    zfill_length = len(bin(max_number)[2:])\n",
    "    answer = []\n",
    "    for num in numbers:\n",
    "        answer.append(find_new_num(num, zfill_length))\n",
    "    return answer"
   ]
  }
 ],
 "metadata": {
  "kernelspec": {
   "display_name": "Python 3",
   "language": "python",
   "name": "python3"
  },
  "language_info": {
   "codemirror_mode": {
    "name": "ipython",
    "version": 3
   },
   "file_extension": ".py",
   "mimetype": "text/x-python",
   "name": "python",
   "nbconvert_exporter": "python",
   "pygments_lexer": "ipython3",
   "version": "3.8.5"
  }
 },
 "nbformat": 4,
 "nbformat_minor": 4
}
